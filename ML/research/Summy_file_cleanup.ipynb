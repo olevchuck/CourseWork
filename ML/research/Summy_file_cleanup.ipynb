{
 "cells": [
  {
   "cell_type": "code",
   "execution_count": 1,
   "metadata": {
    "collapsed": true
   },
   "outputs": [],
   "source": [
    "import pandas as pd\n",
    "import numpy as np\n",
    "import ast\n",
    "from tqdm import tqdm"
   ]
  },
  {
   "cell_type": "code",
   "execution_count": 2,
   "metadata": {
    "collapsed": true
   },
   "outputs": [],
   "source": [
    "df = pd.read_csv('../data/msd_summary_file.csv')"
   ]
  },
  {
   "cell_type": "code",
   "execution_count": 3,
   "metadata": {
    "collapsed": false
   },
   "outputs": [
    {
     "data": {
      "text/html": [
       "<div>\n",
       "<table border=\"1\" class=\"dataframe\">\n",
       "  <thead>\n",
       "    <tr style=\"text-align: right;\">\n",
       "      <th></th>\n",
       "      <th>artist_familiarity</th>\n",
       "      <th>artist_hotttnesss</th>\n",
       "      <th>artist_name</th>\n",
       "      <th>danceability</th>\n",
       "      <th>duration</th>\n",
       "      <th>end_of_fade_in</th>\n",
       "      <th>energy</th>\n",
       "      <th>key</th>\n",
       "      <th>key_confidence</th>\n",
       "      <th>loudness</th>\n",
       "      <th>...</th>\n",
       "      <th>release</th>\n",
       "      <th>song_hotttnesss</th>\n",
       "      <th>song_id</th>\n",
       "      <th>start_of_fade_out</th>\n",
       "      <th>tempo</th>\n",
       "      <th>time_signature</th>\n",
       "      <th>time_signature_confidence</th>\n",
       "      <th>title</th>\n",
       "      <th>track_id</th>\n",
       "      <th>year</th>\n",
       "    </tr>\n",
       "  </thead>\n",
       "  <tbody>\n",
       "    <tr>\n",
       "      <th>0</th>\n",
       "      <td>0.649822</td>\n",
       "      <td>0.394032</td>\n",
       "      <td>b'Faster Pussy cat'</td>\n",
       "      <td>0.0</td>\n",
       "      <td>252.05506</td>\n",
       "      <td>2.049</td>\n",
       "      <td>0.0</td>\n",
       "      <td>10</td>\n",
       "      <td>0.777</td>\n",
       "      <td>-4.829</td>\n",
       "      <td>...</td>\n",
       "      <td>b'Monster Ballads X-Mas'</td>\n",
       "      <td>0.542899</td>\n",
       "      <td>b'SOQMMHC12AB0180CB8'</td>\n",
       "      <td>236.635</td>\n",
       "      <td>87.002</td>\n",
       "      <td>4</td>\n",
       "      <td>0.940</td>\n",
       "      <td>b'Silent Night'</td>\n",
       "      <td>b'TRMMMYQ128F932D901'</td>\n",
       "      <td>2003</td>\n",
       "    </tr>\n",
       "    <tr>\n",
       "      <th>1</th>\n",
       "      <td>0.439604</td>\n",
       "      <td>0.356992</td>\n",
       "      <td>b'Karkkiautomaatti'</td>\n",
       "      <td>0.0</td>\n",
       "      <td>156.55138</td>\n",
       "      <td>0.258</td>\n",
       "      <td>0.0</td>\n",
       "      <td>9</td>\n",
       "      <td>0.808</td>\n",
       "      <td>-10.555</td>\n",
       "      <td>...</td>\n",
       "      <td>b'Karkuteill\\xc3\\xa4'</td>\n",
       "      <td>0.299877</td>\n",
       "      <td>b'SOVFVAK12A8C1350D9'</td>\n",
       "      <td>148.660</td>\n",
       "      <td>150.778</td>\n",
       "      <td>1</td>\n",
       "      <td>0.000</td>\n",
       "      <td>b'Tanssi vaan'</td>\n",
       "      <td>b'TRMMMKD128F425225D'</td>\n",
       "      <td>1995</td>\n",
       "    </tr>\n",
       "    <tr>\n",
       "      <th>2</th>\n",
       "      <td>0.643681</td>\n",
       "      <td>0.437504</td>\n",
       "      <td>b'Hudson Mohawke'</td>\n",
       "      <td>0.0</td>\n",
       "      <td>138.97098</td>\n",
       "      <td>0.000</td>\n",
       "      <td>0.0</td>\n",
       "      <td>7</td>\n",
       "      <td>0.418</td>\n",
       "      <td>-2.060</td>\n",
       "      <td>...</td>\n",
       "      <td>b'Butter'</td>\n",
       "      <td>0.617871</td>\n",
       "      <td>b'SOGTUKN12AB017F4F1'</td>\n",
       "      <td>138.971</td>\n",
       "      <td>177.768</td>\n",
       "      <td>4</td>\n",
       "      <td>0.446</td>\n",
       "      <td>b'No One Could Ever'</td>\n",
       "      <td>b'TRMMMRX128F93187D9'</td>\n",
       "      <td>2006</td>\n",
       "    </tr>\n",
       "    <tr>\n",
       "      <th>3</th>\n",
       "      <td>0.448501</td>\n",
       "      <td>0.372349</td>\n",
       "      <td>b'Yerba Brava'</td>\n",
       "      <td>0.0</td>\n",
       "      <td>145.05751</td>\n",
       "      <td>0.000</td>\n",
       "      <td>0.0</td>\n",
       "      <td>7</td>\n",
       "      <td>0.125</td>\n",
       "      <td>-4.654</td>\n",
       "      <td>...</td>\n",
       "      <td>b'De Culo'</td>\n",
       "      <td>NaN</td>\n",
       "      <td>b'SOBNYVR12A8C13558C'</td>\n",
       "      <td>138.687</td>\n",
       "      <td>87.433</td>\n",
       "      <td>4</td>\n",
       "      <td>0.000</td>\n",
       "      <td>b'Si Vos Quer\\xc3\\xa9s'</td>\n",
       "      <td>b'TRMMMCH128F425532C'</td>\n",
       "      <td>2003</td>\n",
       "    </tr>\n",
       "    <tr>\n",
       "      <th>4</th>\n",
       "      <td>0.000000</td>\n",
       "      <td>0.000000</td>\n",
       "      <td>b'Der Mystic'</td>\n",
       "      <td>0.0</td>\n",
       "      <td>514.29832</td>\n",
       "      <td>0.000</td>\n",
       "      <td>0.0</td>\n",
       "      <td>5</td>\n",
       "      <td>0.097</td>\n",
       "      <td>-7.806</td>\n",
       "      <td>...</td>\n",
       "      <td>b'Rene Ablaze Presents Winter Sessions'</td>\n",
       "      <td>NaN</td>\n",
       "      <td>b'SOHSBXH12A8C13B0DF'</td>\n",
       "      <td>506.717</td>\n",
       "      <td>140.035</td>\n",
       "      <td>4</td>\n",
       "      <td>0.315</td>\n",
       "      <td>b'Tangle Of Aspens'</td>\n",
       "      <td>b'TRMMMWA128F426B589'</td>\n",
       "      <td>0</td>\n",
       "    </tr>\n",
       "  </tbody>\n",
       "</table>\n",
       "<p>5 rows × 22 columns</p>\n",
       "</div>"
      ],
      "text/plain": [
       "   artist_familiarity  artist_hotttnesss          artist_name  danceability  \\\n",
       "0            0.649822           0.394032  b'Faster Pussy cat'           0.0   \n",
       "1            0.439604           0.356992  b'Karkkiautomaatti'           0.0   \n",
       "2            0.643681           0.437504    b'Hudson Mohawke'           0.0   \n",
       "3            0.448501           0.372349       b'Yerba Brava'           0.0   \n",
       "4            0.000000           0.000000        b'Der Mystic'           0.0   \n",
       "\n",
       "    duration  end_of_fade_in  energy  key  key_confidence  loudness  ...   \\\n",
       "0  252.05506           2.049     0.0   10           0.777    -4.829  ...    \n",
       "1  156.55138           0.258     0.0    9           0.808   -10.555  ...    \n",
       "2  138.97098           0.000     0.0    7           0.418    -2.060  ...    \n",
       "3  145.05751           0.000     0.0    7           0.125    -4.654  ...    \n",
       "4  514.29832           0.000     0.0    5           0.097    -7.806  ...    \n",
       "\n",
       "                                   release  song_hotttnesss  \\\n",
       "0                 b'Monster Ballads X-Mas'         0.542899   \n",
       "1                    b'Karkuteill\\xc3\\xa4'         0.299877   \n",
       "2                                b'Butter'         0.617871   \n",
       "3                               b'De Culo'              NaN   \n",
       "4  b'Rene Ablaze Presents Winter Sessions'              NaN   \n",
       "\n",
       "                 song_id  start_of_fade_out    tempo  time_signature  \\\n",
       "0  b'SOQMMHC12AB0180CB8'            236.635   87.002               4   \n",
       "1  b'SOVFVAK12A8C1350D9'            148.660  150.778               1   \n",
       "2  b'SOGTUKN12AB017F4F1'            138.971  177.768               4   \n",
       "3  b'SOBNYVR12A8C13558C'            138.687   87.433               4   \n",
       "4  b'SOHSBXH12A8C13B0DF'            506.717  140.035               4   \n",
       "\n",
       "   time_signature_confidence                    title               track_id  \\\n",
       "0                      0.940          b'Silent Night'  b'TRMMMYQ128F932D901'   \n",
       "1                      0.000           b'Tanssi vaan'  b'TRMMMKD128F425225D'   \n",
       "2                      0.446     b'No One Could Ever'  b'TRMMMRX128F93187D9'   \n",
       "3                      0.000  b'Si Vos Quer\\xc3\\xa9s'  b'TRMMMCH128F425532C'   \n",
       "4                      0.315      b'Tangle Of Aspens'  b'TRMMMWA128F426B589'   \n",
       "\n",
       "   year  \n",
       "0  2003  \n",
       "1  1995  \n",
       "2  2006  \n",
       "3  2003  \n",
       "4     0  \n",
       "\n",
       "[5 rows x 22 columns]"
      ]
     },
     "execution_count": 3,
     "metadata": {},
     "output_type": "execute_result"
    }
   ],
   "source": [
    "df.head()"
   ]
  },
  {
   "cell_type": "code",
   "execution_count": 4,
   "metadata": {
    "collapsed": false
   },
   "outputs": [
    {
     "data": {
      "text/html": [
       "<div>\n",
       "<table border=\"1\" class=\"dataframe\">\n",
       "  <thead>\n",
       "    <tr style=\"text-align: right;\">\n",
       "      <th></th>\n",
       "      <th>artist_familiarity</th>\n",
       "      <th>artist_hotttnesss</th>\n",
       "      <th>danceability</th>\n",
       "      <th>duration</th>\n",
       "      <th>end_of_fade_in</th>\n",
       "      <th>energy</th>\n",
       "      <th>key</th>\n",
       "      <th>key_confidence</th>\n",
       "      <th>loudness</th>\n",
       "      <th>mode</th>\n",
       "      <th>mode_confidence</th>\n",
       "      <th>song_hotttnesss</th>\n",
       "      <th>start_of_fade_out</th>\n",
       "      <th>tempo</th>\n",
       "      <th>time_signature</th>\n",
       "      <th>time_signature_confidence</th>\n",
       "      <th>year</th>\n",
       "    </tr>\n",
       "  </thead>\n",
       "  <tbody>\n",
       "    <tr>\n",
       "      <th>count</th>\n",
       "      <td>9997.000000</td>\n",
       "      <td>10000.000000</td>\n",
       "      <td>10000.0</td>\n",
       "      <td>10000.000000</td>\n",
       "      <td>10000.000000</td>\n",
       "      <td>10000.0</td>\n",
       "      <td>10000.000000</td>\n",
       "      <td>10000.000000</td>\n",
       "      <td>10000.000000</td>\n",
       "      <td>10000.00000</td>\n",
       "      <td>10000.000000</td>\n",
       "      <td>5807.000000</td>\n",
       "      <td>10000.000000</td>\n",
       "      <td>10000.000000</td>\n",
       "      <td>10000.000000</td>\n",
       "      <td>10000.000000</td>\n",
       "      <td>10000.000000</td>\n",
       "    </tr>\n",
       "    <tr>\n",
       "      <th>mean</th>\n",
       "      <td>0.554761</td>\n",
       "      <td>0.378447</td>\n",
       "      <td>0.0</td>\n",
       "      <td>250.130187</td>\n",
       "      <td>0.790762</td>\n",
       "      <td>0.0</td>\n",
       "      <td>5.320200</td>\n",
       "      <td>0.446355</td>\n",
       "      <td>-10.074682</td>\n",
       "      <td>0.66790</td>\n",
       "      <td>0.473497</td>\n",
       "      <td>0.354900</td>\n",
       "      <td>241.452054</td>\n",
       "      <td>123.763692</td>\n",
       "      <td>3.583100</td>\n",
       "      <td>0.510857</td>\n",
       "      <td>1022.312400</td>\n",
       "    </tr>\n",
       "    <tr>\n",
       "      <th>std</th>\n",
       "      <td>0.137972</td>\n",
       "      <td>0.125280</td>\n",
       "      <td>0.0</td>\n",
       "      <td>120.635728</td>\n",
       "      <td>1.915767</td>\n",
       "      <td>0.0</td>\n",
       "      <td>3.607156</td>\n",
       "      <td>0.279559</td>\n",
       "      <td>5.203064</td>\n",
       "      <td>0.47099</td>\n",
       "      <td>0.195435</td>\n",
       "      <td>0.236206</td>\n",
       "      <td>118.704701</td>\n",
       "      <td>34.669269</td>\n",
       "      <td>1.199683</td>\n",
       "      <td>0.371605</td>\n",
       "      <td>999.143709</td>\n",
       "    </tr>\n",
       "    <tr>\n",
       "      <th>min</th>\n",
       "      <td>0.000000</td>\n",
       "      <td>0.000000</td>\n",
       "      <td>0.0</td>\n",
       "      <td>2.585670</td>\n",
       "      <td>0.000000</td>\n",
       "      <td>0.0</td>\n",
       "      <td>0.000000</td>\n",
       "      <td>0.000000</td>\n",
       "      <td>-52.839000</td>\n",
       "      <td>0.00000</td>\n",
       "      <td>0.000000</td>\n",
       "      <td>0.000000</td>\n",
       "      <td>2.586000</td>\n",
       "      <td>0.000000</td>\n",
       "      <td>0.000000</td>\n",
       "      <td>0.000000</td>\n",
       "      <td>0.000000</td>\n",
       "    </tr>\n",
       "    <tr>\n",
       "      <th>25%</th>\n",
       "      <td>0.477992</td>\n",
       "      <td>0.335346</td>\n",
       "      <td>0.0</td>\n",
       "      <td>181.367710</td>\n",
       "      <td>0.000000</td>\n",
       "      <td>0.0</td>\n",
       "      <td>2.000000</td>\n",
       "      <td>0.211000</td>\n",
       "      <td>-12.552000</td>\n",
       "      <td>0.00000</td>\n",
       "      <td>0.355000</td>\n",
       "      <td>0.215080</td>\n",
       "      <td>173.901250</td>\n",
       "      <td>97.591750</td>\n",
       "      <td>3.000000</td>\n",
       "      <td>0.117750</td>\n",
       "      <td>0.000000</td>\n",
       "    </tr>\n",
       "    <tr>\n",
       "      <th>50%</th>\n",
       "      <td>0.557460</td>\n",
       "      <td>0.386907</td>\n",
       "      <td>0.0</td>\n",
       "      <td>229.119545</td>\n",
       "      <td>0.194000</td>\n",
       "      <td>0.0</td>\n",
       "      <td>5.000000</td>\n",
       "      <td>0.469000</td>\n",
       "      <td>-8.901500</td>\n",
       "      <td>1.00000</td>\n",
       "      <td>0.485000</td>\n",
       "      <td>0.375984</td>\n",
       "      <td>220.673500</td>\n",
       "      <td>122.253500</td>\n",
       "      <td>4.000000</td>\n",
       "      <td>0.549000</td>\n",
       "      <td>1967.500000</td>\n",
       "    </tr>\n",
       "    <tr>\n",
       "      <th>75%</th>\n",
       "      <td>0.636853</td>\n",
       "      <td>0.441952</td>\n",
       "      <td>0.0</td>\n",
       "      <td>290.415872</td>\n",
       "      <td>0.427000</td>\n",
       "      <td>0.0</td>\n",
       "      <td>9.000000</td>\n",
       "      <td>0.661000</td>\n",
       "      <td>-6.349000</td>\n",
       "      <td>1.00000</td>\n",
       "      <td>0.608000</td>\n",
       "      <td>0.532217</td>\n",
       "      <td>281.462250</td>\n",
       "      <td>144.108500</td>\n",
       "      <td>4.000000</td>\n",
       "      <td>0.859250</td>\n",
       "      <td>2003.000000</td>\n",
       "    </tr>\n",
       "    <tr>\n",
       "      <th>max</th>\n",
       "      <td>1.000000</td>\n",
       "      <td>1.082503</td>\n",
       "      <td>0.0</td>\n",
       "      <td>1797.694240</td>\n",
       "      <td>40.252000</td>\n",
       "      <td>0.0</td>\n",
       "      <td>11.000000</td>\n",
       "      <td>1.000000</td>\n",
       "      <td>3.077000</td>\n",
       "      <td>1.00000</td>\n",
       "      <td>1.000000</td>\n",
       "      <td>1.000000</td>\n",
       "      <td>1786.070000</td>\n",
       "      <td>251.802000</td>\n",
       "      <td>7.000000</td>\n",
       "      <td>1.000000</td>\n",
       "      <td>2010.000000</td>\n",
       "    </tr>\n",
       "  </tbody>\n",
       "</table>\n",
       "</div>"
      ],
      "text/plain": [
       "       artist_familiarity  artist_hotttnesss  danceability      duration  \\\n",
       "count         9997.000000       10000.000000       10000.0  10000.000000   \n",
       "mean             0.554761           0.378447           0.0    250.130187   \n",
       "std              0.137972           0.125280           0.0    120.635728   \n",
       "min              0.000000           0.000000           0.0      2.585670   \n",
       "25%              0.477992           0.335346           0.0    181.367710   \n",
       "50%              0.557460           0.386907           0.0    229.119545   \n",
       "75%              0.636853           0.441952           0.0    290.415872   \n",
       "max              1.000000           1.082503           0.0   1797.694240   \n",
       "\n",
       "       end_of_fade_in   energy           key  key_confidence      loudness  \\\n",
       "count    10000.000000  10000.0  10000.000000    10000.000000  10000.000000   \n",
       "mean         0.790762      0.0      5.320200        0.446355    -10.074682   \n",
       "std          1.915767      0.0      3.607156        0.279559      5.203064   \n",
       "min          0.000000      0.0      0.000000        0.000000    -52.839000   \n",
       "25%          0.000000      0.0      2.000000        0.211000    -12.552000   \n",
       "50%          0.194000      0.0      5.000000        0.469000     -8.901500   \n",
       "75%          0.427000      0.0      9.000000        0.661000     -6.349000   \n",
       "max         40.252000      0.0     11.000000        1.000000      3.077000   \n",
       "\n",
       "              mode  mode_confidence  song_hotttnesss  start_of_fade_out  \\\n",
       "count  10000.00000     10000.000000      5807.000000       10000.000000   \n",
       "mean       0.66790         0.473497         0.354900         241.452054   \n",
       "std        0.47099         0.195435         0.236206         118.704701   \n",
       "min        0.00000         0.000000         0.000000           2.586000   \n",
       "25%        0.00000         0.355000         0.215080         173.901250   \n",
       "50%        1.00000         0.485000         0.375984         220.673500   \n",
       "75%        1.00000         0.608000         0.532217         281.462250   \n",
       "max        1.00000         1.000000         1.000000        1786.070000   \n",
       "\n",
       "              tempo  time_signature  time_signature_confidence          year  \n",
       "count  10000.000000    10000.000000               10000.000000  10000.000000  \n",
       "mean     123.763692        3.583100                   0.510857   1022.312400  \n",
       "std       34.669269        1.199683                   0.371605    999.143709  \n",
       "min        0.000000        0.000000                   0.000000      0.000000  \n",
       "25%       97.591750        3.000000                   0.117750      0.000000  \n",
       "50%      122.253500        4.000000                   0.549000   1967.500000  \n",
       "75%      144.108500        4.000000                   0.859250   2003.000000  \n",
       "max      251.802000        7.000000                   1.000000   2010.000000  "
      ]
     },
     "execution_count": 4,
     "metadata": {},
     "output_type": "execute_result"
    }
   ],
   "source": [
    "df.describe()"
   ]
  },
  {
   "cell_type": "code",
   "execution_count": 5,
   "metadata": {
    "collapsed": false
   },
   "outputs": [],
   "source": [
    "df = df.fillna(0)"
   ]
  },
  {
   "cell_type": "code",
   "execution_count": 6,
   "metadata": {
    "collapsed": true
   },
   "outputs": [],
   "source": [
    "df['end_of_fade_in_relative'] = df['end_of_fade_in'].values / df['duration']\n",
    "df['start_of_fade_out_relative'] = df['start_of_fade_out'].values / df['duration']"
   ]
  },
  {
   "cell_type": "code",
   "execution_count": 7,
   "metadata": {
    "collapsed": true
   },
   "outputs": [],
   "source": [
    "df.drop(['end_of_fade_in', 'start_of_fade_out'], axis=1, inplace=True)"
   ]
  },
  {
   "cell_type": "code",
   "execution_count": 8,
   "metadata": {
    "collapsed": false
   },
   "outputs": [
    {
     "data": {
      "text/html": [
       "<div>\n",
       "<table border=\"1\" class=\"dataframe\">\n",
       "  <thead>\n",
       "    <tr style=\"text-align: right;\">\n",
       "      <th></th>\n",
       "      <th>artist_familiarity</th>\n",
       "      <th>artist_hotttnesss</th>\n",
       "      <th>danceability</th>\n",
       "      <th>duration</th>\n",
       "      <th>energy</th>\n",
       "      <th>key</th>\n",
       "      <th>key_confidence</th>\n",
       "      <th>loudness</th>\n",
       "      <th>mode</th>\n",
       "      <th>mode_confidence</th>\n",
       "      <th>song_hotttnesss</th>\n",
       "      <th>tempo</th>\n",
       "      <th>time_signature</th>\n",
       "      <th>time_signature_confidence</th>\n",
       "      <th>year</th>\n",
       "      <th>end_of_fade_in_relative</th>\n",
       "      <th>start_of_fade_out_relative</th>\n",
       "    </tr>\n",
       "  </thead>\n",
       "  <tbody>\n",
       "    <tr>\n",
       "      <th>count</th>\n",
       "      <td>10000.000000</td>\n",
       "      <td>10000.000000</td>\n",
       "      <td>10000.0</td>\n",
       "      <td>10000.000000</td>\n",
       "      <td>10000.0</td>\n",
       "      <td>10000.000000</td>\n",
       "      <td>10000.000000</td>\n",
       "      <td>10000.000000</td>\n",
       "      <td>10000.00000</td>\n",
       "      <td>10000.000000</td>\n",
       "      <td>10000.000000</td>\n",
       "      <td>10000.000000</td>\n",
       "      <td>10000.000000</td>\n",
       "      <td>10000.000000</td>\n",
       "      <td>10000.000000</td>\n",
       "      <td>10000.000000</td>\n",
       "      <td>10000.000000</td>\n",
       "    </tr>\n",
       "    <tr>\n",
       "      <th>mean</th>\n",
       "      <td>0.554594</td>\n",
       "      <td>0.378447</td>\n",
       "      <td>0.0</td>\n",
       "      <td>250.130187</td>\n",
       "      <td>0.0</td>\n",
       "      <td>5.320200</td>\n",
       "      <td>0.446355</td>\n",
       "      <td>-10.074682</td>\n",
       "      <td>0.66790</td>\n",
       "      <td>0.473497</td>\n",
       "      <td>0.206091</td>\n",
       "      <td>123.763692</td>\n",
       "      <td>3.583100</td>\n",
       "      <td>0.510857</td>\n",
       "      <td>1022.312400</td>\n",
       "      <td>0.003681</td>\n",
       "      <td>0.963203</td>\n",
       "    </tr>\n",
       "    <tr>\n",
       "      <th>std</th>\n",
       "      <td>0.138286</td>\n",
       "      <td>0.125280</td>\n",
       "      <td>0.0</td>\n",
       "      <td>120.635728</td>\n",
       "      <td>0.0</td>\n",
       "      <td>3.607156</td>\n",
       "      <td>0.279559</td>\n",
       "      <td>5.203064</td>\n",
       "      <td>0.47099</td>\n",
       "      <td>0.195435</td>\n",
       "      <td>0.251134</td>\n",
       "      <td>34.669269</td>\n",
       "      <td>1.199683</td>\n",
       "      <td>0.371605</td>\n",
       "      <td>999.143709</td>\n",
       "      <td>0.009440</td>\n",
       "      <td>0.025762</td>\n",
       "    </tr>\n",
       "    <tr>\n",
       "      <th>min</th>\n",
       "      <td>0.000000</td>\n",
       "      <td>0.000000</td>\n",
       "      <td>0.0</td>\n",
       "      <td>2.585670</td>\n",
       "      <td>0.0</td>\n",
       "      <td>0.000000</td>\n",
       "      <td>0.000000</td>\n",
       "      <td>-52.839000</td>\n",
       "      <td>0.00000</td>\n",
       "      <td>0.000000</td>\n",
       "      <td>0.000000</td>\n",
       "      <td>0.000000</td>\n",
       "      <td>0.000000</td>\n",
       "      <td>0.000000</td>\n",
       "      <td>0.000000</td>\n",
       "      <td>0.000000</td>\n",
       "      <td>0.629351</td>\n",
       "    </tr>\n",
       "    <tr>\n",
       "      <th>25%</th>\n",
       "      <td>0.477876</td>\n",
       "      <td>0.335346</td>\n",
       "      <td>0.0</td>\n",
       "      <td>181.367710</td>\n",
       "      <td>0.0</td>\n",
       "      <td>2.000000</td>\n",
       "      <td>0.211000</td>\n",
       "      <td>-12.552000</td>\n",
       "      <td>0.00000</td>\n",
       "      <td>0.355000</td>\n",
       "      <td>0.000000</td>\n",
       "      <td>97.591750</td>\n",
       "      <td>3.000000</td>\n",
       "      <td>0.117750</td>\n",
       "      <td>0.000000</td>\n",
       "      <td>0.000000</td>\n",
       "      <td>0.948860</td>\n",
       "    </tr>\n",
       "    <tr>\n",
       "      <th>50%</th>\n",
       "      <td>0.557427</td>\n",
       "      <td>0.386907</td>\n",
       "      <td>0.0</td>\n",
       "      <td>229.119545</td>\n",
       "      <td>0.0</td>\n",
       "      <td>5.000000</td>\n",
       "      <td>0.469000</td>\n",
       "      <td>-8.901500</td>\n",
       "      <td>1.00000</td>\n",
       "      <td>0.485000</td>\n",
       "      <td>0.000000</td>\n",
       "      <td>122.253500</td>\n",
       "      <td>4.000000</td>\n",
       "      <td>0.549000</td>\n",
       "      <td>1967.500000</td>\n",
       "      <td>0.000843</td>\n",
       "      <td>0.966146</td>\n",
       "    </tr>\n",
       "    <tr>\n",
       "      <th>75%</th>\n",
       "      <td>0.636797</td>\n",
       "      <td>0.441952</td>\n",
       "      <td>0.0</td>\n",
       "      <td>290.415872</td>\n",
       "      <td>0.0</td>\n",
       "      <td>9.000000</td>\n",
       "      <td>0.661000</td>\n",
       "      <td>-6.349000</td>\n",
       "      <td>1.00000</td>\n",
       "      <td>0.608000</td>\n",
       "      <td>0.419126</td>\n",
       "      <td>144.108500</td>\n",
       "      <td>4.000000</td>\n",
       "      <td>0.859250</td>\n",
       "      <td>2003.000000</td>\n",
       "      <td>0.002187</td>\n",
       "      <td>0.981446</td>\n",
       "    </tr>\n",
       "    <tr>\n",
       "      <th>max</th>\n",
       "      <td>1.000000</td>\n",
       "      <td>1.082503</td>\n",
       "      <td>0.0</td>\n",
       "      <td>1797.694240</td>\n",
       "      <td>0.0</td>\n",
       "      <td>11.000000</td>\n",
       "      <td>1.000000</td>\n",
       "      <td>3.077000</td>\n",
       "      <td>1.00000</td>\n",
       "      <td>1.000000</td>\n",
       "      <td>1.000000</td>\n",
       "      <td>251.802000</td>\n",
       "      <td>7.000000</td>\n",
       "      <td>1.000000</td>\n",
       "      <td>2010.000000</td>\n",
       "      <td>0.203735</td>\n",
       "      <td>1.000128</td>\n",
       "    </tr>\n",
       "  </tbody>\n",
       "</table>\n",
       "</div>"
      ],
      "text/plain": [
       "       artist_familiarity  artist_hotttnesss  danceability      duration  \\\n",
       "count        10000.000000       10000.000000       10000.0  10000.000000   \n",
       "mean             0.554594           0.378447           0.0    250.130187   \n",
       "std              0.138286           0.125280           0.0    120.635728   \n",
       "min              0.000000           0.000000           0.0      2.585670   \n",
       "25%              0.477876           0.335346           0.0    181.367710   \n",
       "50%              0.557427           0.386907           0.0    229.119545   \n",
       "75%              0.636797           0.441952           0.0    290.415872   \n",
       "max              1.000000           1.082503           0.0   1797.694240   \n",
       "\n",
       "        energy           key  key_confidence      loudness         mode  \\\n",
       "count  10000.0  10000.000000    10000.000000  10000.000000  10000.00000   \n",
       "mean       0.0      5.320200        0.446355    -10.074682      0.66790   \n",
       "std        0.0      3.607156        0.279559      5.203064      0.47099   \n",
       "min        0.0      0.000000        0.000000    -52.839000      0.00000   \n",
       "25%        0.0      2.000000        0.211000    -12.552000      0.00000   \n",
       "50%        0.0      5.000000        0.469000     -8.901500      1.00000   \n",
       "75%        0.0      9.000000        0.661000     -6.349000      1.00000   \n",
       "max        0.0     11.000000        1.000000      3.077000      1.00000   \n",
       "\n",
       "       mode_confidence  song_hotttnesss         tempo  time_signature  \\\n",
       "count     10000.000000     10000.000000  10000.000000    10000.000000   \n",
       "mean          0.473497         0.206091    123.763692        3.583100   \n",
       "std           0.195435         0.251134     34.669269        1.199683   \n",
       "min           0.000000         0.000000      0.000000        0.000000   \n",
       "25%           0.355000         0.000000     97.591750        3.000000   \n",
       "50%           0.485000         0.000000    122.253500        4.000000   \n",
       "75%           0.608000         0.419126    144.108500        4.000000   \n",
       "max           1.000000         1.000000    251.802000        7.000000   \n",
       "\n",
       "       time_signature_confidence          year  end_of_fade_in_relative  \\\n",
       "count               10000.000000  10000.000000             10000.000000   \n",
       "mean                    0.510857   1022.312400                 0.003681   \n",
       "std                     0.371605    999.143709                 0.009440   \n",
       "min                     0.000000      0.000000                 0.000000   \n",
       "25%                     0.117750      0.000000                 0.000000   \n",
       "50%                     0.549000   1967.500000                 0.000843   \n",
       "75%                     0.859250   2003.000000                 0.002187   \n",
       "max                     1.000000   2010.000000                 0.203735   \n",
       "\n",
       "       start_of_fade_out_relative  \n",
       "count                10000.000000  \n",
       "mean                     0.963203  \n",
       "std                      0.025762  \n",
       "min                      0.629351  \n",
       "25%                      0.948860  \n",
       "50%                      0.966146  \n",
       "75%                      0.981446  \n",
       "max                      1.000128  "
      ]
     },
     "execution_count": 8,
     "metadata": {},
     "output_type": "execute_result"
    }
   ],
   "source": [
    "df.describe()"
   ]
  },
  {
   "cell_type": "code",
   "execution_count": 9,
   "metadata": {
    "collapsed": false
   },
   "outputs": [
    {
     "data": {
      "text/plain": [
       "{0, 1, 2, 3, 4, 5, 6, 7, 8, 9, 10, 11}"
      ]
     },
     "execution_count": 9,
     "metadata": {},
     "output_type": "execute_result"
    }
   ],
   "source": [
    "set(df['key'])"
   ]
  },
  {
   "cell_type": "code",
   "execution_count": 10,
   "metadata": {
    "collapsed": false
   },
   "outputs": [
    {
     "data": {
      "text/plain": [
       "{0, 1}"
      ]
     },
     "execution_count": 10,
     "metadata": {},
     "output_type": "execute_result"
    }
   ],
   "source": [
    "set(df['mode'])"
   ]
  },
  {
   "cell_type": "code",
   "execution_count": 11,
   "metadata": {
    "collapsed": false
   },
   "outputs": [
    {
     "data": {
      "text/plain": [
       "{0, 1, 3, 4, 5, 7}"
      ]
     },
     "execution_count": 11,
     "metadata": {},
     "output_type": "execute_result"
    }
   ],
   "source": [
    "set(df['time_signature'])"
   ]
  },
  {
   "cell_type": "code",
   "execution_count": 12,
   "metadata": {
    "collapsed": true
   },
   "outputs": [],
   "source": [
    "from sklearn.preprocessing import OneHotEncoder"
   ]
  },
  {
   "cell_type": "code",
   "execution_count": 13,
   "metadata": {
    "collapsed": false
   },
   "outputs": [],
   "source": [
    "keyCoder = OneHotEncoder()\n",
    "keyCoder.fit(df['key'].values.reshape(-1, 1))\n",
    "x = keyCoder.transform(df['key'].values.reshape(-1, 1)).toarray()"
   ]
  },
  {
   "cell_type": "code",
   "execution_count": 14,
   "metadata": {
    "collapsed": false
   },
   "outputs": [],
   "source": [
    "timeSignatureCoder = OneHotEncoder()\n",
    "timeSignatureCoder.fit(df['time_signature'].values.reshape(-1, 1))\n",
    "z = timeSignatureCoder.transform(df['time_signature'].values.reshape(-1, 1)).toarray()"
   ]
  },
  {
   "cell_type": "code",
   "execution_count": 15,
   "metadata": {
    "collapsed": true
   },
   "outputs": [],
   "source": [
    "modeCoder = OneHotEncoder()\n",
    "modeCoder.fit(df['mode'].values.reshape(-1, 1))\n",
    "y = modeCoder.transform(df['mode'].values.reshape(-1, 1)).toarray()"
   ]
  },
  {
   "cell_type": "code",
   "execution_count": 16,
   "metadata": {
    "collapsed": false
   },
   "outputs": [
    {
     "data": {
      "text/plain": [
       "(10000, 20)"
      ]
     },
     "execution_count": 16,
     "metadata": {},
     "output_type": "execute_result"
    }
   ],
   "source": [
    "np.hstack([x, y, z]).shape"
   ]
  },
  {
   "cell_type": "code",
   "execution_count": 17,
   "metadata": {
    "collapsed": false
   },
   "outputs": [
    {
     "data": {
      "text/plain": [
       "((10000, 12), (10000, 2), (10000, 6))"
      ]
     },
     "execution_count": 17,
     "metadata": {},
     "output_type": "execute_result"
    }
   ],
   "source": [
    "x.shape, y.shape, z.shape"
   ]
  },
  {
   "cell_type": "code",
   "execution_count": 18,
   "metadata": {
    "collapsed": false
   },
   "outputs": [],
   "source": [
    "id_csv = pd.read_csv(\"../data/song_track_to_id.csv\")"
   ]
  },
  {
   "cell_type": "code",
   "execution_count": 19,
   "metadata": {
    "collapsed": false
   },
   "outputs": [
    {
     "data": {
      "text/html": [
       "<div>\n",
       "<table border=\"1\" class=\"dataframe\">\n",
       "  <thead>\n",
       "    <tr style=\"text-align: right;\">\n",
       "      <th></th>\n",
       "      <th>id</th>\n",
       "      <th>song_id</th>\n",
       "      <th>track_id</th>\n",
       "    </tr>\n",
       "  </thead>\n",
       "  <tbody>\n",
       "    <tr>\n",
       "      <th>0</th>\n",
       "      <td>0</td>\n",
       "      <td>SOQMMHC12AB0180CB8</td>\n",
       "      <td>TRMMMYQ128F932D901</td>\n",
       "    </tr>\n",
       "    <tr>\n",
       "      <th>1</th>\n",
       "      <td>1</td>\n",
       "      <td>SOVFVAK12A8C1350D9</td>\n",
       "      <td>TRMMMKD128F425225D</td>\n",
       "    </tr>\n",
       "    <tr>\n",
       "      <th>2</th>\n",
       "      <td>2</td>\n",
       "      <td>SOGTUKN12AB017F4F1</td>\n",
       "      <td>TRMMMRX128F93187D9</td>\n",
       "    </tr>\n",
       "    <tr>\n",
       "      <th>3</th>\n",
       "      <td>3</td>\n",
       "      <td>SOBNYVR12A8C13558C</td>\n",
       "      <td>TRMMMCH128F425532C</td>\n",
       "    </tr>\n",
       "    <tr>\n",
       "      <th>4</th>\n",
       "      <td>4</td>\n",
       "      <td>SOHSBXH12A8C13B0DF</td>\n",
       "      <td>TRMMMWA128F426B589</td>\n",
       "    </tr>\n",
       "  </tbody>\n",
       "</table>\n",
       "</div>"
      ],
      "text/plain": [
       "   id             song_id            track_id\n",
       "0   0  SOQMMHC12AB0180CB8  TRMMMYQ128F932D901\n",
       "1   1  SOVFVAK12A8C1350D9  TRMMMKD128F425225D\n",
       "2   2  SOGTUKN12AB017F4F1  TRMMMRX128F93187D9\n",
       "3   3  SOBNYVR12A8C13558C  TRMMMCH128F425532C\n",
       "4   4  SOHSBXH12A8C13B0DF  TRMMMWA128F426B589"
      ]
     },
     "execution_count": 19,
     "metadata": {},
     "output_type": "execute_result"
    }
   ],
   "source": [
    "id_csv.head()"
   ]
  },
  {
   "cell_type": "code",
   "execution_count": 20,
   "metadata": {
    "collapsed": false
   },
   "outputs": [],
   "source": [
    "def fetch_info_df(df):\n",
    "    gen_df = df.copy()\n",
    "    gen_df = gen_df[['artist_name', 'title', 'release', 'track_id', 'song_id']]\n",
    "    for column_name in gen_df.columns:\n",
    "        gen_df[column_name] = gen_df[column_name].map(lambda x: ast.literal_eval(x).decode('utf-8'))   \n",
    "    gen_df.rename(columns={'release': 'album_name'}, inplace=True)\n",
    "    gen_df['year'] = df['year']\n",
    "    return gen_df"
   ]
  },
  {
   "cell_type": "code",
   "execution_count": 46,
   "metadata": {
    "collapsed": true
   },
   "outputs": [],
   "source": [
    "def merge_id_into_df(df, id_df):\n",
    "    df = pd.merge(df, id_csv, on=['track_id', 'song_id'])\n",
    "    return df"
   ]
  },
  {
   "cell_type": "code",
   "execution_count": 47,
   "metadata": {
    "collapsed": true
   },
   "outputs": [],
   "source": [
    "def generate_info_df(df, id_csv):\n",
    "    info_df = generate_info_df(df)\n",
    "    info_df = merge_id_into_df(info_df, id_csv)\n",
    "    return info_df"
   ]
  },
  {
   "cell_type": "code",
   "execution_count": 48,
   "metadata": {
    "collapsed": true
   },
   "outputs": [],
   "source": [
    "def fetch_training_df(df):\n",
    "    gen_df = df.copy()\n",
    "    gen_df.drop(['artist_name', 'title', 'release'], axis=1, inplace=True)\n",
    "    \n",
    "    keyCoder = OneHotEncoder()\n",
    "    keyCoder.fit(df['key'].values.reshape(-1, 1))\n",
    "    key_encoded = keyCoder.transform(df['key'].values.reshape(-1, 1)).toarray()\n",
    "    \n",
    "    modeCoder = OneHotEncoder()\n",
    "    modeCoder.fit(df['mode'].values.reshape(-1, 1))\n",
    "    mode_encoded = modeCoder.transform(df['mode'].values.reshape(-1, 1)).toarray()\n",
    "    \n",
    "    timeSignatureCoder = OneHotEncoder()\n",
    "    timeSignatureCoder.fit(df['time_signature'].values.reshape(-1, 1))\n",
    "    timeSignature_encoded = timeSignatureCoder.transform(df['time_signature'].values.reshape(-1, 1)).toarray()\n",
    "    \n",
    "    categorical_df = pd.DataFrame(np.hstack([key_encoded, mode_encoded, timeSignature_encoded]))\n",
    "    gen_df = pd.concat([gen_df, categorical_df], axis=1)\n",
    "    return gen_df"
   ]
  },
  {
   "cell_type": "code",
   "execution_count": 56,
   "metadata": {
    "collapsed": false
   },
   "outputs": [],
   "source": [
    "def generate_training_df(df, id_csv):\n",
    "    train_df = fetch_training_df(df)\n",
    "    \n",
    "    for column_name in ['song_id', 'track_id']:\n",
    "        train_df[column_name] = train_df[column_name].map(lambda x: ast.literal_eval(x).decode('utf-8'))\n",
    "        \n",
    "    train_df.drop(['key', 'mode', 'time_signature', 'year'], axis=1, inplace=True)\n",
    "    train_df = merge_id_into_df(train_df, id_csv)\n",
    "    train_df.drop(['song_id', 'track_id'], axis=1, inplace=True)\n",
    "    return train_df"
   ]
  },
  {
   "cell_type": "code",
   "execution_count": null,
   "metadata": {
    "collapsed": true
   },
   "outputs": [],
   "source": []
  }
 ],
 "metadata": {
  "kernelspec": {
   "display_name": "Python 3",
   "language": "python",
   "name": "python3"
  },
  "language_info": {
   "codemirror_mode": {
    "name": "ipython",
    "version": 3
   },
   "file_extension": ".py",
   "mimetype": "text/x-python",
   "name": "python",
   "nbconvert_exporter": "python",
   "pygments_lexer": "ipython3",
   "version": "3.6.0"
  }
 },
 "nbformat": 4,
 "nbformat_minor": 2
}
