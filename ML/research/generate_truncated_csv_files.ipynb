{
 "cells": [
  {
   "cell_type": "code",
   "execution_count": 1,
   "metadata": {
    "collapsed": true
   },
   "outputs": [],
   "source": [
    "import os\n",
    "import pandas as pd"
   ]
  },
  {
   "cell_type": "code",
   "execution_count": 2,
   "metadata": {
    "collapsed": false
   },
   "outputs": [
    {
     "data": {
      "text/html": [
       "<div>\n",
       "<table border=\"1\" class=\"dataframe\">\n",
       "  <thead>\n",
       "    <tr style=\"text-align: right;\">\n",
       "      <th></th>\n",
       "      <th>artist_name</th>\n",
       "      <th>title</th>\n",
       "      <th>album_name</th>\n",
       "      <th>track_id</th>\n",
       "      <th>song_id</th>\n",
       "      <th>year</th>\n",
       "      <th>id</th>\n",
       "    </tr>\n",
       "  </thead>\n",
       "  <tbody>\n",
       "    <tr>\n",
       "      <th>0</th>\n",
       "      <td>Faster Pussy cat</td>\n",
       "      <td>Silent Night</td>\n",
       "      <td>Monster Ballads X-Mas</td>\n",
       "      <td>TRMMMYQ128F932D901</td>\n",
       "      <td>SOQMMHC12AB0180CB8</td>\n",
       "      <td>2003</td>\n",
       "      <td>0</td>\n",
       "    </tr>\n",
       "    <tr>\n",
       "      <th>1</th>\n",
       "      <td>Karkkiautomaatti</td>\n",
       "      <td>Tanssi vaan</td>\n",
       "      <td>Karkuteillä</td>\n",
       "      <td>TRMMMKD128F425225D</td>\n",
       "      <td>SOVFVAK12A8C1350D9</td>\n",
       "      <td>1995</td>\n",
       "      <td>1</td>\n",
       "    </tr>\n",
       "    <tr>\n",
       "      <th>2</th>\n",
       "      <td>Hudson Mohawke</td>\n",
       "      <td>No One Could Ever</td>\n",
       "      <td>Butter</td>\n",
       "      <td>TRMMMRX128F93187D9</td>\n",
       "      <td>SOGTUKN12AB017F4F1</td>\n",
       "      <td>2006</td>\n",
       "      <td>2</td>\n",
       "    </tr>\n",
       "    <tr>\n",
       "      <th>3</th>\n",
       "      <td>Yerba Brava</td>\n",
       "      <td>Si Vos Querés</td>\n",
       "      <td>De Culo</td>\n",
       "      <td>TRMMMCH128F425532C</td>\n",
       "      <td>SOBNYVR12A8C13558C</td>\n",
       "      <td>2003</td>\n",
       "      <td>3</td>\n",
       "    </tr>\n",
       "    <tr>\n",
       "      <th>4</th>\n",
       "      <td>Der Mystic</td>\n",
       "      <td>Tangle Of Aspens</td>\n",
       "      <td>Rene Ablaze Presents Winter Sessions</td>\n",
       "      <td>TRMMMWA128F426B589</td>\n",
       "      <td>SOHSBXH12A8C13B0DF</td>\n",
       "      <td>0</td>\n",
       "      <td>4</td>\n",
       "    </tr>\n",
       "  </tbody>\n",
       "</table>\n",
       "</div>"
      ],
      "text/plain": [
       "        artist_name              title                            album_name  \\\n",
       "0  Faster Pussy cat       Silent Night                 Monster Ballads X-Mas   \n",
       "1  Karkkiautomaatti        Tanssi vaan                           Karkuteillä   \n",
       "2    Hudson Mohawke  No One Could Ever                                Butter   \n",
       "3       Yerba Brava      Si Vos Querés                               De Culo   \n",
       "4        Der Mystic   Tangle Of Aspens  Rene Ablaze Presents Winter Sessions   \n",
       "\n",
       "             track_id             song_id  year  id  \n",
       "0  TRMMMYQ128F932D901  SOQMMHC12AB0180CB8  2003   0  \n",
       "1  TRMMMKD128F425225D  SOVFVAK12A8C1350D9  1995   1  \n",
       "2  TRMMMRX128F93187D9  SOGTUKN12AB017F4F1  2006   2  \n",
       "3  TRMMMCH128F425532C  SOBNYVR12A8C13558C  2003   3  \n",
       "4  TRMMMWA128F426B589  SOHSBXH12A8C13B0DF     0   4  "
      ]
     },
     "execution_count": 2,
     "metadata": {},
     "output_type": "execute_result"
    }
   ],
   "source": [
    "info_df = pd.read_csv('../data/info.csv')\n",
    "info_df.head()"
   ]
  },
  {
   "cell_type": "code",
   "execution_count": 3,
   "metadata": {
    "collapsed": true
   },
   "outputs": [],
   "source": [
    "save_dir = '../utils/downloaded_tracks/'\n",
    "def is_in_downloaded_tracks(row):\n",
    "    artist = str(row.artist_name)\n",
    "    title = str(row.title)\n",
    "    artist = artist.lower().replace(' ', '_').replace('(', '').replace(')', '')\n",
    "    title = title.lower().replace(' ', '_').replace('(', '').replace(')', '')\n",
    "    track_save_dir = os.path.join(save_dir, artist)\n",
    "    track_save_path = os.path.join(track_save_dir, title + '.mp3')\n",
    "    \n",
    "    return os.path.isfile(track_save_path)"
   ]
  },
  {
   "cell_type": "code",
   "execution_count": 4,
   "metadata": {
    "collapsed": false
   },
   "outputs": [],
   "source": [
    "downloaded_ids = [row.id for _, row in info_df.iterrows() if is_in_downloaded_tracks(row)]"
   ]
  },
  {
   "cell_type": "code",
   "execution_count": 5,
   "metadata": {
    "collapsed": false
   },
   "outputs": [
    {
     "data": {
      "text/plain": [
       "(2096, (1000000, 7))"
      ]
     },
     "execution_count": 5,
     "metadata": {},
     "output_type": "execute_result"
    }
   ],
   "source": [
    "len(downloaded_ids), info_df.shape"
   ]
  },
  {
   "cell_type": "code",
   "execution_count": 6,
   "metadata": {
    "collapsed": true
   },
   "outputs": [],
   "source": [
    "downloaded_ids = set(downloaded_ids)"
   ]
  },
  {
   "cell_type": "code",
   "execution_count": 7,
   "metadata": {
    "collapsed": false
   },
   "outputs": [
    {
     "data": {
      "text/html": [
       "<div>\n",
       "<table border=\"1\" class=\"dataframe\">\n",
       "  <thead>\n",
       "    <tr style=\"text-align: right;\">\n",
       "      <th></th>\n",
       "      <th>artist_name</th>\n",
       "      <th>title</th>\n",
       "      <th>album_name</th>\n",
       "      <th>track_id</th>\n",
       "      <th>song_id</th>\n",
       "      <th>year</th>\n",
       "      <th>id</th>\n",
       "    </tr>\n",
       "  </thead>\n",
       "  <tbody>\n",
       "    <tr>\n",
       "      <th>82</th>\n",
       "      <td>Hex</td>\n",
       "      <td>Subtek</td>\n",
       "      <td>Tone Tales From Tomorrow</td>\n",
       "      <td>TRMMWFG128F92DFAA2</td>\n",
       "      <td>SOMPUGR12A8C146F57</td>\n",
       "      <td>0</td>\n",
       "      <td>82</td>\n",
       "    </tr>\n",
       "    <tr>\n",
       "      <th>96</th>\n",
       "      <td>Felt</td>\n",
       "      <td>Whaleface (Instrumental)</td>\n",
       "      <td>Felt 3: A Tribute To Rosie Perez [Instrumental...</td>\n",
       "      <td>TRMMWJP12903CD8807</td>\n",
       "      <td>SOUKOKB12AB018A808</td>\n",
       "      <td>0</td>\n",
       "      <td>96</td>\n",
       "    </tr>\n",
       "    <tr>\n",
       "      <th>154</th>\n",
       "      <td>DJ Rupture</td>\n",
       "      <td>B15 Apna Sangheet Sings Apna Sangsheet_ Ruled ...</td>\n",
       "      <td>Minesweeper</td>\n",
       "      <td>TRMMGYG128F4268B2A</td>\n",
       "      <td>SOJUTQH12A8C13D5F3</td>\n",
       "      <td>0</td>\n",
       "      <td>154</td>\n",
       "    </tr>\n",
       "    <tr>\n",
       "      <th>285</th>\n",
       "      <td>The Chariot</td>\n",
       "      <td>Back To Back</td>\n",
       "      <td>The Fiancée</td>\n",
       "      <td>TRMMRZW128EF34DF59</td>\n",
       "      <td>SOVIBLK12A6D4F9E02</td>\n",
       "      <td>2007</td>\n",
       "      <td>285</td>\n",
       "    </tr>\n",
       "    <tr>\n",
       "      <th>584</th>\n",
       "      <td>Los Amantes De Lola</td>\n",
       "      <td>Valiums A Tu Tia</td>\n",
       "      <td>Rock En Espanol - Lo Mejor De Los Amantes De Lola</td>\n",
       "      <td>TRMMIMB128F92F6356</td>\n",
       "      <td>SOCQZVP12AAF3B2D0F</td>\n",
       "      <td>0</td>\n",
       "      <td>584</td>\n",
       "    </tr>\n",
       "  </tbody>\n",
       "</table>\n",
       "</div>"
      ],
      "text/plain": [
       "             artist_name                                              title  \\\n",
       "82                   Hex                                             Subtek   \n",
       "96                  Felt                           Whaleface (Instrumental)   \n",
       "154           DJ Rupture  B15 Apna Sangheet Sings Apna Sangsheet_ Ruled ...   \n",
       "285          The Chariot                                       Back To Back   \n",
       "584  Los Amantes De Lola                                   Valiums A Tu Tia   \n",
       "\n",
       "                                            album_name            track_id  \\\n",
       "82                            Tone Tales From Tomorrow  TRMMWFG128F92DFAA2   \n",
       "96   Felt 3: A Tribute To Rosie Perez [Instrumental...  TRMMWJP12903CD8807   \n",
       "154                                        Minesweeper  TRMMGYG128F4268B2A   \n",
       "285                                        The Fiancée  TRMMRZW128EF34DF59   \n",
       "584  Rock En Espanol - Lo Mejor De Los Amantes De Lola  TRMMIMB128F92F6356   \n",
       "\n",
       "                song_id  year   id  \n",
       "82   SOMPUGR12A8C146F57     0   82  \n",
       "96   SOUKOKB12AB018A808     0   96  \n",
       "154  SOJUTQH12A8C13D5F3     0  154  \n",
       "285  SOVIBLK12A6D4F9E02  2007  285  \n",
       "584  SOCQZVP12AAF3B2D0F     0  584  "
      ]
     },
     "execution_count": 7,
     "metadata": {},
     "output_type": "execute_result"
    }
   ],
   "source": [
    "info_df_trunc = info_df[info_df['id'].isin(downloaded_ids)]\n",
    "info_df_trunc.head()"
   ]
  },
  {
   "cell_type": "code",
   "execution_count": 8,
   "metadata": {
    "collapsed": true
   },
   "outputs": [],
   "source": [
    "def track_path(row):\n",
    "    artist = str(row.artist_name)\n",
    "    title = str(row.title)\n",
    "    artist = artist.lower().replace(' ', '_').replace('(', '').replace(')', '')\n",
    "    title = title.lower().replace(' ', '_').replace('(', '').replace(')', '')\n",
    "    track_save_dir = os.path.join('.', artist)\n",
    "    track_save_path = os.path.join(track_save_dir, title + '.mp3')\n",
    "    return track_save_path[2:]"
   ]
  },
  {
   "cell_type": "code",
   "execution_count": 9,
   "metadata": {
    "collapsed": false
   },
   "outputs": [
    {
     "name": "stderr",
     "output_type": "stream",
     "text": [
      "/Users/alexkirnas/anaconda/lib/python3.6/site-packages/ipykernel/__main__.py:1: SettingWithCopyWarning: \n",
      "A value is trying to be set on a copy of a slice from a DataFrame.\n",
      "Try using .loc[row_indexer,col_indexer] = value instead\n",
      "\n",
      "See the caveats in the documentation: http://pandas.pydata.org/pandas-docs/stable/indexing.html#indexing-view-versus-copy\n",
      "  if __name__ == '__main__':\n"
     ]
    }
   ],
   "source": [
    "info_df_trunc['track_path'] = info_df_trunc.apply(track_path, axis=1)"
   ]
  },
  {
   "cell_type": "code",
   "execution_count": 10,
   "metadata": {
    "collapsed": false
   },
   "outputs": [],
   "source": [
    "from mutagen.mp3 import MP3\n",
    "\n",
    "def get_track_length(track_path):\n",
    "    path = os.path.join('../utils/downloaded_tracks/', track_path)\n",
    "    if os.path.isfile(path):\n",
    "        audio = MP3(path)\n",
    "        return audio.info.length\n",
    "    else:\n",
    "        return -1"
   ]
  },
  {
   "cell_type": "code",
   "execution_count": 11,
   "metadata": {
    "collapsed": false
   },
   "outputs": [
    {
     "name": "stderr",
     "output_type": "stream",
     "text": [
      "/Users/alexkirnas/anaconda/lib/python3.6/site-packages/ipykernel/__main__.py:1: SettingWithCopyWarning: \n",
      "A value is trying to be set on a copy of a slice from a DataFrame.\n",
      "Try using .loc[row_indexer,col_indexer] = value instead\n",
      "\n",
      "See the caveats in the documentation: http://pandas.pydata.org/pandas-docs/stable/indexing.html#indexing-view-versus-copy\n",
      "  if __name__ == '__main__':\n"
     ]
    }
   ],
   "source": [
    "info_df_trunc['length'] = info_df_trunc['track_path'].map(get_track_length)"
   ]
  },
  {
   "cell_type": "code",
   "execution_count": 12,
   "metadata": {
    "collapsed": false
   },
   "outputs": [
    {
     "data": {
      "text/html": [
       "<div>\n",
       "<table border=\"1\" class=\"dataframe\">\n",
       "  <thead>\n",
       "    <tr style=\"text-align: right;\">\n",
       "      <th></th>\n",
       "      <th>artist_name</th>\n",
       "      <th>title</th>\n",
       "      <th>album_name</th>\n",
       "      <th>track_id</th>\n",
       "      <th>song_id</th>\n",
       "      <th>year</th>\n",
       "      <th>id</th>\n",
       "      <th>track_path</th>\n",
       "      <th>length</th>\n",
       "    </tr>\n",
       "  </thead>\n",
       "  <tbody>\n",
       "    <tr>\n",
       "      <th>82</th>\n",
       "      <td>Hex</td>\n",
       "      <td>Subtek</td>\n",
       "      <td>Tone Tales From Tomorrow</td>\n",
       "      <td>TRMMWFG128F92DFAA2</td>\n",
       "      <td>SOMPUGR12A8C146F57</td>\n",
       "      <td>0</td>\n",
       "      <td>82</td>\n",
       "      <td>hex/subtek.mp3</td>\n",
       "      <td>199.105300</td>\n",
       "    </tr>\n",
       "    <tr>\n",
       "      <th>96</th>\n",
       "      <td>Felt</td>\n",
       "      <td>Whaleface (Instrumental)</td>\n",
       "      <td>Felt 3: A Tribute To Rosie Perez [Instrumental...</td>\n",
       "      <td>TRMMWJP12903CD8807</td>\n",
       "      <td>SOUKOKB12AB018A808</td>\n",
       "      <td>0</td>\n",
       "      <td>96</td>\n",
       "      <td>felt/whaleface_instrumental.mp3</td>\n",
       "      <td>179.586667</td>\n",
       "    </tr>\n",
       "    <tr>\n",
       "      <th>154</th>\n",
       "      <td>DJ Rupture</td>\n",
       "      <td>B15 Apna Sangheet Sings Apna Sangsheet_ Ruled ...</td>\n",
       "      <td>Minesweeper</td>\n",
       "      <td>TRMMGYG128F4268B2A</td>\n",
       "      <td>SOJUTQH12A8C13D5F3</td>\n",
       "      <td>0</td>\n",
       "      <td>154</td>\n",
       "      <td>dj_rupture/b15_apna_sangheet_sings_apna_sangsh...</td>\n",
       "      <td>201.946667</td>\n",
       "    </tr>\n",
       "    <tr>\n",
       "      <th>285</th>\n",
       "      <td>The Chariot</td>\n",
       "      <td>Back To Back</td>\n",
       "      <td>The Fiancée</td>\n",
       "      <td>TRMMRZW128EF34DF59</td>\n",
       "      <td>SOVIBLK12A6D4F9E02</td>\n",
       "      <td>2007</td>\n",
       "      <td>285</td>\n",
       "      <td>the_chariot/back_to_back.mp3</td>\n",
       "      <td>93.093333</td>\n",
       "    </tr>\n",
       "    <tr>\n",
       "      <th>584</th>\n",
       "      <td>Los Amantes De Lola</td>\n",
       "      <td>Valiums A Tu Tia</td>\n",
       "      <td>Rock En Espanol - Lo Mejor De Los Amantes De Lola</td>\n",
       "      <td>TRMMIMB128F92F6356</td>\n",
       "      <td>SOCQZVP12AAF3B2D0F</td>\n",
       "      <td>0</td>\n",
       "      <td>584</td>\n",
       "      <td>los_amantes_de_lola/valiums_a_tu_tia.mp3</td>\n",
       "      <td>275.382812</td>\n",
       "    </tr>\n",
       "  </tbody>\n",
       "</table>\n",
       "</div>"
      ],
      "text/plain": [
       "             artist_name                                              title  \\\n",
       "82                   Hex                                             Subtek   \n",
       "96                  Felt                           Whaleface (Instrumental)   \n",
       "154           DJ Rupture  B15 Apna Sangheet Sings Apna Sangsheet_ Ruled ...   \n",
       "285          The Chariot                                       Back To Back   \n",
       "584  Los Amantes De Lola                                   Valiums A Tu Tia   \n",
       "\n",
       "                                            album_name            track_id  \\\n",
       "82                            Tone Tales From Tomorrow  TRMMWFG128F92DFAA2   \n",
       "96   Felt 3: A Tribute To Rosie Perez [Instrumental...  TRMMWJP12903CD8807   \n",
       "154                                        Minesweeper  TRMMGYG128F4268B2A   \n",
       "285                                        The Fiancée  TRMMRZW128EF34DF59   \n",
       "584  Rock En Espanol - Lo Mejor De Los Amantes De Lola  TRMMIMB128F92F6356   \n",
       "\n",
       "                song_id  year   id  \\\n",
       "82   SOMPUGR12A8C146F57     0   82   \n",
       "96   SOUKOKB12AB018A808     0   96   \n",
       "154  SOJUTQH12A8C13D5F3     0  154   \n",
       "285  SOVIBLK12A6D4F9E02  2007  285   \n",
       "584  SOCQZVP12AAF3B2D0F     0  584   \n",
       "\n",
       "                                            track_path      length  \n",
       "82                                      hex/subtek.mp3  199.105300  \n",
       "96                     felt/whaleface_instrumental.mp3  179.586667  \n",
       "154  dj_rupture/b15_apna_sangheet_sings_apna_sangsh...  201.946667  \n",
       "285                       the_chariot/back_to_back.mp3   93.093333  \n",
       "584           los_amantes_de_lola/valiums_a_tu_tia.mp3  275.382812  "
      ]
     },
     "execution_count": 12,
     "metadata": {},
     "output_type": "execute_result"
    }
   ],
   "source": [
    "info_df_trunc.head()"
   ]
  },
  {
   "cell_type": "code",
   "execution_count": 13,
   "metadata": {
    "collapsed": true
   },
   "outputs": [],
   "source": [
    "info_df_trunc.to_csv('../data/info_trunc.csv', index=False)"
   ]
  },
  {
   "cell_type": "code",
   "execution_count": 14,
   "metadata": {
    "collapsed": false
   },
   "outputs": [
    {
     "data": {
      "text/html": [
       "<div>\n",
       "<table border=\"1\" class=\"dataframe\">\n",
       "  <thead>\n",
       "    <tr style=\"text-align: right;\">\n",
       "      <th></th>\n",
       "      <th>artist_familiarity</th>\n",
       "      <th>artist_hotttnesss</th>\n",
       "      <th>danceability</th>\n",
       "      <th>duration</th>\n",
       "      <th>energy</th>\n",
       "      <th>key</th>\n",
       "      <th>key_confidence</th>\n",
       "      <th>loudness</th>\n",
       "      <th>mode</th>\n",
       "      <th>mode_confidence</th>\n",
       "      <th>song_hotttnesss</th>\n",
       "      <th>tempo</th>\n",
       "      <th>time_signature</th>\n",
       "      <th>time_signature_confidence</th>\n",
       "      <th>end_of_fade_in_relative</th>\n",
       "      <th>start_of_fade_out_relative</th>\n",
       "      <th>id</th>\n",
       "    </tr>\n",
       "  </thead>\n",
       "  <tbody>\n",
       "    <tr>\n",
       "      <th>0</th>\n",
       "      <td>0.649822</td>\n",
       "      <td>0.394032</td>\n",
       "      <td>0.0</td>\n",
       "      <td>252.05506</td>\n",
       "      <td>0.0</td>\n",
       "      <td>10</td>\n",
       "      <td>0.777</td>\n",
       "      <td>-4.829</td>\n",
       "      <td>0</td>\n",
       "      <td>0.688</td>\n",
       "      <td>0.542899</td>\n",
       "      <td>87.002</td>\n",
       "      <td>4</td>\n",
       "      <td>0.940</td>\n",
       "      <td>0.008129</td>\n",
       "      <td>0.938823</td>\n",
       "      <td>0</td>\n",
       "    </tr>\n",
       "    <tr>\n",
       "      <th>1</th>\n",
       "      <td>0.439604</td>\n",
       "      <td>0.356992</td>\n",
       "      <td>0.0</td>\n",
       "      <td>156.55138</td>\n",
       "      <td>0.0</td>\n",
       "      <td>9</td>\n",
       "      <td>0.808</td>\n",
       "      <td>-10.555</td>\n",
       "      <td>1</td>\n",
       "      <td>0.355</td>\n",
       "      <td>0.299877</td>\n",
       "      <td>150.778</td>\n",
       "      <td>1</td>\n",
       "      <td>0.000</td>\n",
       "      <td>0.001648</td>\n",
       "      <td>0.949592</td>\n",
       "      <td>1</td>\n",
       "    </tr>\n",
       "    <tr>\n",
       "      <th>2</th>\n",
       "      <td>0.643681</td>\n",
       "      <td>0.437504</td>\n",
       "      <td>0.0</td>\n",
       "      <td>138.97098</td>\n",
       "      <td>0.0</td>\n",
       "      <td>7</td>\n",
       "      <td>0.418</td>\n",
       "      <td>-2.060</td>\n",
       "      <td>1</td>\n",
       "      <td>0.566</td>\n",
       "      <td>0.617871</td>\n",
       "      <td>177.768</td>\n",
       "      <td>4</td>\n",
       "      <td>0.446</td>\n",
       "      <td>0.000000</td>\n",
       "      <td>1.000000</td>\n",
       "      <td>2</td>\n",
       "    </tr>\n",
       "    <tr>\n",
       "      <th>3</th>\n",
       "      <td>0.448501</td>\n",
       "      <td>0.372349</td>\n",
       "      <td>0.0</td>\n",
       "      <td>145.05751</td>\n",
       "      <td>0.0</td>\n",
       "      <td>7</td>\n",
       "      <td>0.125</td>\n",
       "      <td>-4.654</td>\n",
       "      <td>1</td>\n",
       "      <td>0.451</td>\n",
       "      <td>0.000000</td>\n",
       "      <td>87.433</td>\n",
       "      <td>4</td>\n",
       "      <td>0.000</td>\n",
       "      <td>0.000000</td>\n",
       "      <td>0.956083</td>\n",
       "      <td>3</td>\n",
       "    </tr>\n",
       "    <tr>\n",
       "      <th>4</th>\n",
       "      <td>0.000000</td>\n",
       "      <td>0.000000</td>\n",
       "      <td>0.0</td>\n",
       "      <td>514.29832</td>\n",
       "      <td>0.0</td>\n",
       "      <td>5</td>\n",
       "      <td>0.097</td>\n",
       "      <td>-7.806</td>\n",
       "      <td>0</td>\n",
       "      <td>0.290</td>\n",
       "      <td>0.000000</td>\n",
       "      <td>140.035</td>\n",
       "      <td>4</td>\n",
       "      <td>0.315</td>\n",
       "      <td>0.000000</td>\n",
       "      <td>0.985259</td>\n",
       "      <td>4</td>\n",
       "    </tr>\n",
       "  </tbody>\n",
       "</table>\n",
       "</div>"
      ],
      "text/plain": [
       "   artist_familiarity  artist_hotttnesss  danceability   duration  energy  \\\n",
       "0            0.649822           0.394032           0.0  252.05506     0.0   \n",
       "1            0.439604           0.356992           0.0  156.55138     0.0   \n",
       "2            0.643681           0.437504           0.0  138.97098     0.0   \n",
       "3            0.448501           0.372349           0.0  145.05751     0.0   \n",
       "4            0.000000           0.000000           0.0  514.29832     0.0   \n",
       "\n",
       "   key  key_confidence  loudness  mode  mode_confidence  song_hotttnesss  \\\n",
       "0   10           0.777    -4.829     0            0.688         0.542899   \n",
       "1    9           0.808   -10.555     1            0.355         0.299877   \n",
       "2    7           0.418    -2.060     1            0.566         0.617871   \n",
       "3    7           0.125    -4.654     1            0.451         0.000000   \n",
       "4    5           0.097    -7.806     0            0.290         0.000000   \n",
       "\n",
       "     tempo  time_signature  time_signature_confidence  \\\n",
       "0   87.002               4                      0.940   \n",
       "1  150.778               1                      0.000   \n",
       "2  177.768               4                      0.446   \n",
       "3   87.433               4                      0.000   \n",
       "4  140.035               4                      0.315   \n",
       "\n",
       "   end_of_fade_in_relative  start_of_fade_out_relative  id  \n",
       "0                 0.008129                    0.938823   0  \n",
       "1                 0.001648                    0.949592   1  \n",
       "2                 0.000000                    1.000000   2  \n",
       "3                 0.000000                    0.956083   3  \n",
       "4                 0.000000                    0.985259   4  "
      ]
     },
     "execution_count": 14,
     "metadata": {},
     "output_type": "execute_result"
    }
   ],
   "source": [
    "training_df = pd.read_csv('../data/training.csv')\n",
    "training_df.head()"
   ]
  },
  {
   "cell_type": "code",
   "execution_count": 15,
   "metadata": {
    "collapsed": true
   },
   "outputs": [],
   "source": [
    "training_df_trunc = training_df[training_df['id'].isin(downloaded_ids)]\n",
    "training_df_trunc.to_csv('../data/training_trunc.csv', index=False)"
   ]
  },
  {
   "cell_type": "code",
   "execution_count": 41,
   "metadata": {
    "collapsed": false
   },
   "outputs": [
    {
     "data": {
      "text/html": [
       "<div>\n",
       "<table border=\"1\" class=\"dataframe\">\n",
       "  <thead>\n",
       "    <tr style=\"text-align: right;\">\n",
       "      <th></th>\n",
       "      <th>track_listen_count</th>\n",
       "      <th>user_id</th>\n",
       "      <th>track_id</th>\n",
       "    </tr>\n",
       "  </thead>\n",
       "  <tbody>\n",
       "    <tr>\n",
       "      <th>0</th>\n",
       "      <td>1</td>\n",
       "      <td>108811</td>\n",
       "      <td>448841</td>\n",
       "    </tr>\n",
       "    <tr>\n",
       "      <th>1</th>\n",
       "      <td>1</td>\n",
       "      <td>83893</td>\n",
       "      <td>448841</td>\n",
       "    </tr>\n",
       "    <tr>\n",
       "      <th>2</th>\n",
       "      <td>1</td>\n",
       "      <td>84614</td>\n",
       "      <td>448841</td>\n",
       "    </tr>\n",
       "    <tr>\n",
       "      <th>3</th>\n",
       "      <td>2</td>\n",
       "      <td>98036</td>\n",
       "      <td>448841</td>\n",
       "    </tr>\n",
       "    <tr>\n",
       "      <th>4</th>\n",
       "      <td>4</td>\n",
       "      <td>80305</td>\n",
       "      <td>448841</td>\n",
       "    </tr>\n",
       "  </tbody>\n",
       "</table>\n",
       "</div>"
      ],
      "text/plain": [
       "   track_listen_count  user_id  track_id\n",
       "0                   1   108811    448841\n",
       "1                   1    83893    448841\n",
       "2                   1    84614    448841\n",
       "3                   2    98036    448841\n",
       "4                   4    80305    448841"
      ]
     },
     "execution_count": 41,
     "metadata": {},
     "output_type": "execute_result"
    }
   ],
   "source": [
    "triplets_df = pd.read_csv('../data/training_triplets.csv')\n",
    "triplets_df.head()"
   ]
  },
  {
   "cell_type": "code",
   "execution_count": 45,
   "metadata": {
    "collapsed": false
   },
   "outputs": [],
   "source": [
    "triplets_df_trunc = triplets_df[triplets_df['track_id'].isin(downloaded_ids)]"
   ]
  },
  {
   "cell_type": "code",
   "execution_count": 46,
   "metadata": {
    "collapsed": false
   },
   "outputs": [],
   "source": [
    "triplets_df_trunc = triplets_df_trunc.assign(user_id=1)"
   ]
  },
  {
   "cell_type": "code",
   "execution_count": 48,
   "metadata": {
    "collapsed": false
   },
   "outputs": [
    {
     "data": {
      "text/html": [
       "<div>\n",
       "<table border=\"1\" class=\"dataframe\">\n",
       "  <thead>\n",
       "    <tr>\n",
       "      <th></th>\n",
       "      <th colspan=\"21\" halign=\"left\">track_listen_count</th>\n",
       "    </tr>\n",
       "    <tr>\n",
       "      <th>track_id</th>\n",
       "      <th>285</th>\n",
       "      <th>3896</th>\n",
       "      <th>6531</th>\n",
       "      <th>10202</th>\n",
       "      <th>11561</th>\n",
       "      <th>12768</th>\n",
       "      <th>14008</th>\n",
       "      <th>16489</th>\n",
       "      <th>21654</th>\n",
       "      <th>27734</th>\n",
       "      <th>...</th>\n",
       "      <th>979330</th>\n",
       "      <th>982674</th>\n",
       "      <th>983823</th>\n",
       "      <th>985617</th>\n",
       "      <th>987053</th>\n",
       "      <th>988011</th>\n",
       "      <th>988340</th>\n",
       "      <th>997320</th>\n",
       "      <th>998593</th>\n",
       "      <th>999589</th>\n",
       "    </tr>\n",
       "    <tr>\n",
       "      <th>user_id</th>\n",
       "      <th></th>\n",
       "      <th></th>\n",
       "      <th></th>\n",
       "      <th></th>\n",
       "      <th></th>\n",
       "      <th></th>\n",
       "      <th></th>\n",
       "      <th></th>\n",
       "      <th></th>\n",
       "      <th></th>\n",
       "      <th></th>\n",
       "      <th></th>\n",
       "      <th></th>\n",
       "      <th></th>\n",
       "      <th></th>\n",
       "      <th></th>\n",
       "      <th></th>\n",
       "      <th></th>\n",
       "      <th></th>\n",
       "      <th></th>\n",
       "      <th></th>\n",
       "    </tr>\n",
       "  </thead>\n",
       "  <tbody>\n",
       "    <tr>\n",
       "      <th>1</th>\n",
       "      <td>2</td>\n",
       "      <td>13</td>\n",
       "      <td>2</td>\n",
       "      <td>1</td>\n",
       "      <td>3</td>\n",
       "      <td>1</td>\n",
       "      <td>7</td>\n",
       "      <td>23</td>\n",
       "      <td>1</td>\n",
       "      <td>9</td>\n",
       "      <td>...</td>\n",
       "      <td>2</td>\n",
       "      <td>8</td>\n",
       "      <td>1</td>\n",
       "      <td>106</td>\n",
       "      <td>1</td>\n",
       "      <td>4</td>\n",
       "      <td>1</td>\n",
       "      <td>106</td>\n",
       "      <td>73</td>\n",
       "      <td>15</td>\n",
       "    </tr>\n",
       "  </tbody>\n",
       "</table>\n",
       "<p>1 rows × 357 columns</p>\n",
       "</div>"
      ],
      "text/plain": [
       "         track_listen_count                                                   \\\n",
       "track_id             285    3896   6531   10202  11561  12768  14008  16489    \n",
       "user_id                                                                        \n",
       "1                         2     13      2      1      3      1      7     23   \n",
       "\n",
       "                        ...                                              \\\n",
       "track_id 21654  27734   ...   979330 982674 983823 985617 987053 988011   \n",
       "user_id                 ...                                               \n",
       "1             1      9  ...        2      8      1    106      1      4   \n",
       "\n",
       "                                      \n",
       "track_id 988340 997320 998593 999589  \n",
       "user_id                               \n",
       "1             1    106     73     15  \n",
       "\n",
       "[1 rows x 357 columns]"
      ]
     },
     "execution_count": 48,
     "metadata": {},
     "output_type": "execute_result"
    }
   ],
   "source": [
    "triplets_df_trunc = triplets_df_trunc.groupby(by=['user_id', 'track_id']).sum().unstack()\n",
    "triplets_df_trunc.head()"
   ]
  },
  {
   "cell_type": "code",
   "execution_count": 54,
   "metadata": {
    "collapsed": false
   },
   "outputs": [],
   "source": [
    "triplets_df_trunc = pd.melt(triplets_df_trunc).drop(None, axis=1)"
   ]
  },
  {
   "cell_type": "code",
   "execution_count": 55,
   "metadata": {
    "collapsed": true
   },
   "outputs": [],
   "source": [
    "triplets_df_trunc['user_id'] = 1"
   ]
  },
  {
   "cell_type": "code",
   "execution_count": 58,
   "metadata": {
    "collapsed": false
   },
   "outputs": [
    {
     "data": {
      "text/html": [
       "<div>\n",
       "<table border=\"1\" class=\"dataframe\">\n",
       "  <thead>\n",
       "    <tr style=\"text-align: right;\">\n",
       "      <th></th>\n",
       "      <th>track_id</th>\n",
       "      <th>track_listen_count</th>\n",
       "      <th>user_id</th>\n",
       "    </tr>\n",
       "  </thead>\n",
       "  <tbody>\n",
       "    <tr>\n",
       "      <th>0</th>\n",
       "      <td>285</td>\n",
       "      <td>2</td>\n",
       "      <td>1</td>\n",
       "    </tr>\n",
       "    <tr>\n",
       "      <th>1</th>\n",
       "      <td>3896</td>\n",
       "      <td>13</td>\n",
       "      <td>1</td>\n",
       "    </tr>\n",
       "    <tr>\n",
       "      <th>2</th>\n",
       "      <td>6531</td>\n",
       "      <td>2</td>\n",
       "      <td>1</td>\n",
       "    </tr>\n",
       "    <tr>\n",
       "      <th>3</th>\n",
       "      <td>10202</td>\n",
       "      <td>1</td>\n",
       "      <td>1</td>\n",
       "    </tr>\n",
       "    <tr>\n",
       "      <th>4</th>\n",
       "      <td>11561</td>\n",
       "      <td>3</td>\n",
       "      <td>1</td>\n",
       "    </tr>\n",
       "  </tbody>\n",
       "</table>\n",
       "</div>"
      ],
      "text/plain": [
       "   track_id  track_listen_count  user_id\n",
       "0       285                   2        1\n",
       "1      3896                  13        1\n",
       "2      6531                   2        1\n",
       "3     10202                   1        1\n",
       "4     11561                   3        1"
      ]
     },
     "execution_count": 58,
     "metadata": {},
     "output_type": "execute_result"
    }
   ],
   "source": [
    "triplets_df_trunc.rename(columns={'value': 'track_listen_count'}, inplace=True)\n",
    "triplets_df_trunc.head()"
   ]
  },
  {
   "cell_type": "code",
   "execution_count": 59,
   "metadata": {
    "collapsed": true
   },
   "outputs": [],
   "source": [
    "triplets_df_trunc.to_csv('../data/training_triplets_trunc.csv', index=False)"
   ]
  },
  {
   "cell_type": "code",
   "execution_count": null,
   "metadata": {
    "collapsed": true
   },
   "outputs": [],
   "source": []
  }
 ],
 "metadata": {
  "kernelspec": {
   "display_name": "Python 3",
   "language": "python",
   "name": "python3"
  },
  "language_info": {
   "codemirror_mode": {
    "name": "ipython",
    "version": 3
   },
   "file_extension": ".py",
   "mimetype": "text/x-python",
   "name": "python",
   "nbconvert_exporter": "python",
   "pygments_lexer": "ipython3",
   "version": "3.6.0"
  }
 },
 "nbformat": 4,
 "nbformat_minor": 2
}
