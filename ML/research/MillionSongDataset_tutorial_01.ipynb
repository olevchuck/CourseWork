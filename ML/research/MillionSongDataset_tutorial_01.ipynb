{
 "cells": [
  {
   "cell_type": "code",
   "execution_count": 1,
   "metadata": {
    "collapsed": true
   },
   "outputs": [],
   "source": [
    "\"\"\"\n",
    "Tutorial for the Million Song Dataset\n",
    "\n",
    "by Thierry Bertin-Mahieux (2011) Columbia University\n",
    "   tb2332@columbia.edu\n",
    "   Copyright 2011 T. Bertin-Mahieux, All Rights Reserved\n",
    "\n",
    "This tutorial will walk you through a quick experiment\n",
    "using the Million Song Dataset (MSD). We will actually be working\n",
    "on the 10K songs subset for speed issues, but the code should\n",
    "transpose seamlessly.\n",
    "\n",
    "In this tutorial, we do simple metadata analysis. We look at\n",
    "which artist has the most songs by iterating over the whole\n",
    "dataset and using an SQLite database.\n",
    "\n",
    "You need to have the MSD code downloaded from GITHUB.\n",
    "See the MSD website for details:\n",
    "http://labrosa.ee.columbia.edu/millionsong/\n",
    "\n",
    "If you have any questions regarding the dataset or this tutorial,\n",
    "please first take a look at the website. Send us an email\n",
    "if you haven't found the answer.\n",
    "\n",
    "Note: this tutorial is developed using Python 2.6\n",
    "      on an Ubuntu machine. PDF created using 'pyreport'.\n",
    "\"\"\"\n",
    "\n",
    "# usual imports\n",
    "import os\n",
    "import sys\n",
    "import time\n",
    "import glob\n",
    "import datetime\n",
    "import sqlite3\n",
    "import numpy as np\n",
    "from tqdm import tqdm"
   ]
  },
  {
   "cell_type": "code",
   "execution_count": 2,
   "metadata": {
    "collapsed": true
   },
   "outputs": [],
   "source": [
    "import sys \n",
    "sys.path.append('/Users/alexkirnas/MusicRecommendationService/ML')"
   ]
  },
  {
   "cell_type": "code",
   "execution_count": 3,
   "metadata": {
    "collapsed": true
   },
   "outputs": [],
   "source": [
    "# path to the Million Song Dataset subset (uncompressed)\n",
    "# CHANGE IT TO YOUR LOCAL CONFIGURATION\n",
    "msd_subset_path='/Users/alexkirnas/MusicRecommendationService/ML'\n",
    "msd_subset_data_path=os.path.join(msd_subset_path,'data')\n",
    "msd_subset_addf_path=os.path.join(msd_subset_path,'AdditionalFiles')\n",
    "assert os.path.isdir(msd_subset_path),'wrong path' # sanity check"
   ]
  },
  {
   "cell_type": "code",
   "execution_count": 4,
   "metadata": {
    "collapsed": true
   },
   "outputs": [],
   "source": [
    "# imports specific to the MSD\n",
    "import utils.hdf5_getters as GETTERS"
   ]
  },
  {
   "cell_type": "code",
   "execution_count": null,
   "metadata": {
    "collapsed": true
   },
   "outputs": [],
   "source": [
    "# the following function simply gives us a nice string for\n",
    "# a time lag in seconds\n",
    "def strtimedelta(starttime,stoptime):\n",
    "    return str(datetime.timedelta(seconds=stoptime-starttime))\n",
    "\n",
    "# we define this very useful function to iterate the files\n",
    "def apply_to_all_files(basedir,func=lambda x: x,ext='.h5'):\n",
    "    \"\"\"\n",
    "    From a base directory, go through all subdirectories,\n",
    "    find all files with the given extension, apply the\n",
    "    given function 'func' to all of them.\n",
    "    If no 'func' is passed, we do nothing except counting.\n",
    "    INPUT\n",
    "       basedir  - base directory of the dataset\n",
    "       func     - function to apply to all filenames\n",
    "       ext      - extension, .h5 by default\n",
    "    RETURN\n",
    "       number of files\n",
    "    \"\"\"\n",
    "    cnt = 0\n",
    "    # iterate over all files in all subdirectories\n",
    "    for root, dirs, files in os.walk(basedir):\n",
    "        files = glob.glob(os.path.join(root,'*'+ext))\n",
    "        # count files\n",
    "        cnt += len(files)\n",
    "        # apply function to all files\n",
    "        for f in files :\n",
    "            func(f)       \n",
    "    return cnt"
   ]
  },
  {
   "cell_type": "code",
   "execution_count": null,
   "metadata": {
    "collapsed": false
   },
   "outputs": [],
   "source": [
    "# we can now easily count the number of files in the dataset\n",
    "print('number of song files:',apply_to_all_files(msd_subset_data_path))"
   ]
  },
  {
   "cell_type": "code",
   "execution_count": null,
   "metadata": {
    "collapsed": false
   },
   "outputs": [],
   "source": [
    "# let's now get all artist names in a set(). One nice property:\n",
    "# if we enter many times the same artist, only one will be kept.\n",
    "all_artist_names = set()\n",
    "\n",
    "# we define the function to apply to all files\n",
    "def func_to_get_artist_name(filename):\n",
    "    \"\"\"\n",
    "    This function does 3 simple things:\n",
    "    - open the song file\n",
    "    - get artist ID and put it\n",
    "    - close the file\n",
    "    \"\"\"\n",
    "    h5 = GETTERS.open_h5_file_read(filename)\n",
    "    for song_index in tqdm(range(len(h5.root.metadata.songs))):\n",
    "        artist_name = GETTERS.get_artist_name(h5, songidx=song_index)\n",
    "        all_artist_names.add( artist_name )\n",
    "    h5.close()\n",
    "    \n",
    "# let's apply the previous function to all files\n",
    "# we'll also measure how long it takes\n",
    "t1 = time.time()\n",
    "apply_to_all_files(msd_subset_data_path,func=func_to_get_artist_name)\n",
    "t2 = time.time()\n",
    "print ('all artist names extracted in:',strtimedelta(t1,t2))"
   ]
  },
  {
   "cell_type": "code",
   "execution_count": null,
   "metadata": {
    "collapsed": false
   },
   "outputs": [],
   "source": [
    "# let's see some of the content of 'all_artist_names'\n",
    "print ('found', len(all_artist_names), 'unique artist names')\n",
    "print (list(all_artist_names)[:5])"
   ]
  },
  {
   "cell_type": "code",
   "execution_count": 5,
   "metadata": {
    "collapsed": true
   },
   "outputs": [],
   "source": [
    "h5 = GETTERS.open_h5_file_read('../data/msd_summary_file.h5')"
   ]
  },
  {
   "cell_type": "code",
   "execution_count": null,
   "metadata": {
    "collapsed": false
   },
   "outputs": [],
   "source": [
    "h5.root.metadata.songs"
   ]
  },
  {
   "cell_type": "code",
   "execution_count": null,
   "metadata": {
    "collapsed": false
   },
   "outputs": [],
   "source": [
    "GETTERS.get_title(h5, songidx=100), GETTERS.get_artist_name(h5, songidx=100), GETTERS.get_artist_id(h5, songidx=100)"
   ]
  },
  {
   "cell_type": "code",
   "execution_count": null,
   "metadata": {
    "collapsed": false
   },
   "outputs": [],
   "source": [
    "GETTERS.get_song_id(h5, songidx=100)"
   ]
  },
  {
   "cell_type": "code",
   "execution_count": 8,
   "metadata": {
    "collapsed": false
   },
   "outputs": [
    {
     "name": "stderr",
     "output_type": "stream",
     "text": [
      "\n",
      "  0%|          | 0/1000000 [00:00<?, ?it/s]\u001b[A\n",
      "  0%|          | 14/1000000 [00:00<2:05:48, 132.47it/s]\u001b[A\n",
      "  0%|          | 29/1000000 [00:00<2:02:22, 136.18it/s]\u001b[A\n",
      "  0%|          | 43/1000000 [00:00<2:01:53, 136.73it/s]\u001b[A\n",
      "  0%|          | 58/1000000 [00:00<2:01:05, 137.63it/s]\u001b[A\n",
      "  0%|          | 72/1000000 [00:00<2:02:08, 136.44it/s]\u001b[A\n",
      "  0%|          | 86/1000000 [00:00<2:02:14, 136.33it/s]\u001b[A\n",
      "  0%|          | 100/1000000 [00:00<2:02:31, 136.02it/s]\u001b[A\n",
      "  0%|          | 114/1000000 [00:00<2:02:55, 135.57it/s]\u001b[A\n",
      "  0%|          | 128/1000000 [00:00<2:03:48, 134.60it/s]\u001b[A\n",
      "  0%|          | 143/1000000 [00:01<2:01:55, 136.67it/s]\u001b[A\n",
      "  0%|          | 157/1000000 [00:01<2:02:02, 136.54it/s]\u001b[A\n",
      "  0%|          | 171/1000000 [00:01<2:04:05, 134.29it/s]\u001b[A\n",
      "  0%|          | 185/1000000 [00:01<2:05:38, 132.63it/s]\u001b[A\n",
      "  0%|          | 199/1000000 [00:01<2:10:22, 127.81it/s]\u001b[A\n",
      "  0%|          | 212/1000000 [00:01<2:11:14, 126.96it/s]\u001b[A\n",
      "  0%|          | 225/1000000 [00:01<2:11:51, 126.37it/s]\u001b[A\n",
      "  0%|          | 239/1000000 [00:01<2:09:01, 129.14it/s]\u001b[A\n",
      "  0%|          | 253/1000000 [00:01<2:08:14, 129.93it/s]\u001b[A\n",
      "  0%|          | 268/1000000 [00:02<2:05:00, 133.29it/s]\u001b[A\n",
      "  0%|          | 282/1000000 [00:02<2:05:33, 132.70it/s]\u001b[A\n",
      "  0%|          | 296/1000000 [00:02<2:07:54, 130.27it/s]\u001b[A\n",
      "  0%|          | 310/1000000 [00:02<2:05:21, 132.91it/s]\u001b[A\n",
      "  0%|          | 324/1000000 [00:02<2:06:00, 132.22it/s]\u001b[A\n",
      "  0%|          | 339/1000000 [00:02<2:03:23, 135.02it/s]\u001b[A\n",
      "  0%|          | 353/1000000 [00:02<2:03:04, 135.37it/s]\u001b[A\n",
      "  0%|          | 367/1000000 [00:02<2:02:30, 136.00it/s]\u001b[A\n",
      "  0%|          | 382/1000000 [00:02<2:00:33, 138.18it/s]\u001b[A\n",
      "  0%|          | 396/1000000 [00:02<2:06:02, 132.18it/s]\u001b[A\n",
      "  0%|          | 410/1000000 [00:03<2:10:13, 127.93it/s]\u001b[A\n",
      "  0%|          | 423/1000000 [00:03<2:12:48, 125.44it/s]\u001b[A\n",
      "  0%|          | 437/1000000 [00:03<2:10:42, 127.46it/s]\u001b[A\n",
      "  0%|          | 451/1000000 [00:03<2:09:07, 129.02it/s]\u001b[A\n",
      "  0%|          | 465/1000000 [00:03<2:06:43, 131.46it/s]\u001b[A\n",
      "  0%|          | 479/1000000 [00:03<2:05:04, 133.18it/s]\u001b[A\n",
      "  0%|          | 493/1000000 [00:03<2:05:50, 132.38it/s]\u001b[A\n",
      "  0%|          | 507/1000000 [00:03<2:10:15, 127.88it/s]\u001b[A\n",
      "  0%|          | 521/1000000 [00:03<2:08:17, 129.85it/s]\u001b[A\n",
      "  0%|          | 535/1000000 [00:04<2:06:12, 131.98it/s]\u001b[A\n",
      "  0%|          | 549/1000000 [00:04<2:04:36, 133.68it/s]\u001b[A\n",
      "  0%|          | 563/1000000 [00:04<2:08:03, 130.07it/s]\u001b[A\n",
      "  0%|          | 577/1000000 [00:04<2:13:12, 125.04it/s]\u001b[A\n",
      "  0%|          | 590/1000000 [00:04<2:13:16, 124.99it/s]\u001b[A\n",
      "  0%|          | 604/1000000 [00:04<2:10:26, 127.70it/s]\u001b[A\n",
      "  0%|          | 617/1000000 [00:04<2:11:01, 127.13it/s]\u001b[A\n",
      "  0%|          | 630/1000000 [00:04<2:13:18, 124.94it/s]\u001b[A\n",
      "  0%|          | 643/1000000 [00:04<2:15:13, 123.17it/s]\u001b[A\n",
      "  0%|          | 656/1000000 [00:05<2:14:00, 124.28it/s]\u001b[A\n",
      "  0%|          | 669/1000000 [00:05<2:12:29, 125.71it/s]\u001b[A\n",
      "  0%|          | 684/1000000 [00:05<2:07:50, 130.28it/s]\u001b[A\n",
      "  0%|          | 699/1000000 [00:05<2:04:17, 134.00it/s]\u001b[A\n",
      "  0%|          | 713/1000000 [00:05<2:05:07, 133.11it/s]\u001b[A\n",
      "  0%|          | 727/1000000 [00:05<2:04:18, 133.98it/s]\u001b[A\n",
      "  0%|          | 741/1000000 [00:05<2:02:51, 135.55it/s]\u001b[A\n",
      "  0%|          | 755/1000000 [00:05<2:02:33, 135.88it/s]\u001b[A\n",
      "  0%|          | 769/1000000 [00:05<2:03:38, 134.69it/s]\u001b[A\n",
      "  0%|          | 783/1000000 [00:05<2:05:17, 132.92it/s]\u001b[A\n",
      "  0%|          | 797/1000000 [00:06<2:07:15, 130.87it/s]\u001b[A\n",
      "  0%|          | 811/1000000 [00:06<2:08:36, 129.48it/s]\u001b[A\n",
      "  0%|          | 824/1000000 [00:06<2:08:56, 129.15it/s]\u001b[A\n",
      "  0%|          | 837/1000000 [00:06<2:08:53, 129.20it/s]\u001b[A\n",
      "  0%|          | 852/1000000 [00:06<2:05:41, 132.48it/s]\u001b[A\n",
      "  0%|          | 866/1000000 [00:06<2:05:42, 132.47it/s]\u001b[A\n",
      "  0%|          | 880/1000000 [00:06<2:07:41, 130.41it/s]\u001b[A\n",
      "  0%|          | 894/1000000 [00:06<2:11:09, 126.95it/s]\u001b[A\n",
      "  0%|          | 907/1000000 [00:06<2:10:59, 127.12it/s]\u001b[A\n",
      "  0%|          | 920/1000000 [00:07<2:10:33, 127.54it/s]\u001b[A\n",
      "  0%|          | 933/1000000 [00:07<2:11:51, 126.28it/s]\u001b[A\n",
      "  0%|          | 947/1000000 [00:07<2:10:02, 128.04it/s]\u001b[A\n",
      "  0%|          | 961/1000000 [00:07<2:08:09, 129.93it/s]\u001b[A\n",
      "  0%|          | 975/1000000 [00:07<2:11:28, 126.64it/s]\u001b[A\n",
      "  0%|          | 988/1000000 [00:07<2:12:17, 125.85it/s]\u001b[A\n",
      "  0%|          | 1001/1000000 [00:07<2:15:58, 122.45it/s]\u001b[A\n",
      "  0%|          | 1014/1000000 [00:07<2:17:50, 120.79it/s]\u001b[A\n",
      "  0%|          | 1027/1000000 [00:07<2:23:06, 116.34it/s]\u001b[A\n",
      "  0%|          | 1040/1000000 [00:07<2:19:44, 119.14it/s]\u001b[A\n",
      "  0%|          | 1054/1000000 [00:08<2:14:15, 124.02it/s]\u001b[A\n",
      "  0%|          | 1068/1000000 [00:08<2:12:00, 126.11it/s]\u001b[A\n",
      "  0%|          | 1081/1000000 [00:08<2:12:20, 125.79it/s]\u001b[A\n",
      "  0%|          | 1094/1000000 [00:08<2:12:48, 125.36it/s]\u001b[A\n",
      "  0%|          | 1109/1000000 [00:08<2:07:24, 130.66it/s]\u001b[A\n",
      "  0%|          | 1123/1000000 [00:08<2:08:42, 129.34it/s]\u001b[A\n",
      "  0%|          | 1136/1000000 [00:08<2:10:23, 127.67it/s]\u001b[A\n",
      "  0%|          | 1149/1000000 [00:08<2:09:49, 128.24it/s]\u001b[A\n",
      "  1%|          | 9986/1000000 [01:11<1:49:43, 150.38it/s]"
     ]
    }
   ],
   "source": [
    "all_data = []\n",
    "\n",
    "# not in h5-flie\n",
    "skip_function_names = [\n",
    "    'get_num_songs'\n",
    "]  \n",
    "\n",
    "function_names = [name for name in dir(GETTERS) if name.startswith('get_') and not name in skip_function_names]\n",
    "fields_names = [name[4:] for name in function_names]\n",
    "\n",
    "for song_index in tqdm(range(len(h5.root.metadata.songs))):\n",
    "    if song_index == 10000:\n",
    "        break\n",
    "        \n",
    "    song_dict = {}\n",
    "    for func_index, func_name in enumerate(function_names):\n",
    "        getter_func = getattr(GETTERS, func_name)\n",
    "        \n",
    "        value = getter_func(h5, songidx=song_index)\n",
    "        key = fields_names[func_index]\n",
    "        \n",
    "        song_dict[key] = value\n",
    "\n",
    "    all_data.append(song_dict)"
   ]
  },
  {
   "cell_type": "code",
   "execution_count": 11,
   "metadata": {
    "collapsed": false
   },
   "outputs": [],
   "source": [
    "import pandas as pd"
   ]
  },
  {
   "cell_type": "code",
   "execution_count": 12,
   "metadata": {
    "collapsed": true
   },
   "outputs": [],
   "source": [
    "result_df = pd.DataFrame.from_dict(all_data)\n",
    "result_df.to_csv('../data/msd_summary_file_10k.csv')"
   ]
  },
  {
   "cell_type": "code",
   "execution_count": null,
   "metadata": {
    "collapsed": true
   },
   "outputs": [],
   "source": []
  }
 ],
 "metadata": {
  "kernelspec": {
   "display_name": "Python 3",
   "language": "python",
   "name": "python3"
  },
  "language_info": {
   "codemirror_mode": {
    "name": "ipython",
    "version": 3
   },
   "file_extension": ".py",
   "mimetype": "text/x-python",
   "name": "python",
   "nbconvert_exporter": "python",
   "pygments_lexer": "ipython3",
   "version": "3.6.0"
  }
 },
 "nbformat": 4,
 "nbformat_minor": 2
}
