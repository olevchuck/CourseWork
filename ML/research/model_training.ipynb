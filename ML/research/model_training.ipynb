{
 "cells": [
  {
   "cell_type": "code",
   "execution_count": 1,
   "metadata": {
    "collapsed": true
   },
   "outputs": [],
   "source": [
    "import pandas as pd\n",
    "import numpy as np\n",
    "from matplotlib import pyplot as plt\n",
    "%matplotlib inline"
   ]
  },
  {
   "cell_type": "code",
   "execution_count": 2,
   "metadata": {
    "collapsed": true
   },
   "outputs": [],
   "source": [
    "training_df = pd.read_csv('../data/training.csv')"
   ]
  },
  {
   "cell_type": "code",
   "execution_count": 3,
   "metadata": {
    "collapsed": false
   },
   "outputs": [
    {
     "data": {
      "text/html": [
       "<div>\n",
       "<table border=\"1\" class=\"dataframe\">\n",
       "  <thead>\n",
       "    <tr style=\"text-align: right;\">\n",
       "      <th></th>\n",
       "      <th>artist_familiarity</th>\n",
       "      <th>artist_hotttnesss</th>\n",
       "      <th>danceability</th>\n",
       "      <th>duration</th>\n",
       "      <th>energy</th>\n",
       "      <th>key</th>\n",
       "      <th>key_confidence</th>\n",
       "      <th>loudness</th>\n",
       "      <th>mode</th>\n",
       "      <th>mode_confidence</th>\n",
       "      <th>song_hotttnesss</th>\n",
       "      <th>tempo</th>\n",
       "      <th>time_signature</th>\n",
       "      <th>time_signature_confidence</th>\n",
       "      <th>end_of_fade_in_relative</th>\n",
       "      <th>start_of_fade_out_relative</th>\n",
       "      <th>id</th>\n",
       "    </tr>\n",
       "  </thead>\n",
       "  <tbody>\n",
       "    <tr>\n",
       "      <th>0</th>\n",
       "      <td>0.649822</td>\n",
       "      <td>0.394032</td>\n",
       "      <td>0.0</td>\n",
       "      <td>252.05506</td>\n",
       "      <td>0.0</td>\n",
       "      <td>10</td>\n",
       "      <td>0.777</td>\n",
       "      <td>-4.829</td>\n",
       "      <td>0</td>\n",
       "      <td>0.688</td>\n",
       "      <td>0.542899</td>\n",
       "      <td>87.002</td>\n",
       "      <td>4</td>\n",
       "      <td>0.940</td>\n",
       "      <td>0.008129</td>\n",
       "      <td>0.938823</td>\n",
       "      <td>0</td>\n",
       "    </tr>\n",
       "    <tr>\n",
       "      <th>1</th>\n",
       "      <td>0.439604</td>\n",
       "      <td>0.356992</td>\n",
       "      <td>0.0</td>\n",
       "      <td>156.55138</td>\n",
       "      <td>0.0</td>\n",
       "      <td>9</td>\n",
       "      <td>0.808</td>\n",
       "      <td>-10.555</td>\n",
       "      <td>1</td>\n",
       "      <td>0.355</td>\n",
       "      <td>0.299877</td>\n",
       "      <td>150.778</td>\n",
       "      <td>1</td>\n",
       "      <td>0.000</td>\n",
       "      <td>0.001648</td>\n",
       "      <td>0.949592</td>\n",
       "      <td>1</td>\n",
       "    </tr>\n",
       "    <tr>\n",
       "      <th>2</th>\n",
       "      <td>0.643681</td>\n",
       "      <td>0.437504</td>\n",
       "      <td>0.0</td>\n",
       "      <td>138.97098</td>\n",
       "      <td>0.0</td>\n",
       "      <td>7</td>\n",
       "      <td>0.418</td>\n",
       "      <td>-2.060</td>\n",
       "      <td>1</td>\n",
       "      <td>0.566</td>\n",
       "      <td>0.617871</td>\n",
       "      <td>177.768</td>\n",
       "      <td>4</td>\n",
       "      <td>0.446</td>\n",
       "      <td>0.000000</td>\n",
       "      <td>1.000000</td>\n",
       "      <td>2</td>\n",
       "    </tr>\n",
       "    <tr>\n",
       "      <th>3</th>\n",
       "      <td>0.448501</td>\n",
       "      <td>0.372349</td>\n",
       "      <td>0.0</td>\n",
       "      <td>145.05751</td>\n",
       "      <td>0.0</td>\n",
       "      <td>7</td>\n",
       "      <td>0.125</td>\n",
       "      <td>-4.654</td>\n",
       "      <td>1</td>\n",
       "      <td>0.451</td>\n",
       "      <td>0.000000</td>\n",
       "      <td>87.433</td>\n",
       "      <td>4</td>\n",
       "      <td>0.000</td>\n",
       "      <td>0.000000</td>\n",
       "      <td>0.956083</td>\n",
       "      <td>3</td>\n",
       "    </tr>\n",
       "    <tr>\n",
       "      <th>4</th>\n",
       "      <td>0.000000</td>\n",
       "      <td>0.000000</td>\n",
       "      <td>0.0</td>\n",
       "      <td>514.29832</td>\n",
       "      <td>0.0</td>\n",
       "      <td>5</td>\n",
       "      <td>0.097</td>\n",
       "      <td>-7.806</td>\n",
       "      <td>0</td>\n",
       "      <td>0.290</td>\n",
       "      <td>0.000000</td>\n",
       "      <td>140.035</td>\n",
       "      <td>4</td>\n",
       "      <td>0.315</td>\n",
       "      <td>0.000000</td>\n",
       "      <td>0.985259</td>\n",
       "      <td>4</td>\n",
       "    </tr>\n",
       "  </tbody>\n",
       "</table>\n",
       "</div>"
      ],
      "text/plain": [
       "   artist_familiarity  artist_hotttnesss  danceability   duration  energy  \\\n",
       "0            0.649822           0.394032           0.0  252.05506     0.0   \n",
       "1            0.439604           0.356992           0.0  156.55138     0.0   \n",
       "2            0.643681           0.437504           0.0  138.97098     0.0   \n",
       "3            0.448501           0.372349           0.0  145.05751     0.0   \n",
       "4            0.000000           0.000000           0.0  514.29832     0.0   \n",
       "\n",
       "   key  key_confidence  loudness  mode  mode_confidence  song_hotttnesss  \\\n",
       "0   10           0.777    -4.829     0            0.688         0.542899   \n",
       "1    9           0.808   -10.555     1            0.355         0.299877   \n",
       "2    7           0.418    -2.060     1            0.566         0.617871   \n",
       "3    7           0.125    -4.654     1            0.451         0.000000   \n",
       "4    5           0.097    -7.806     0            0.290         0.000000   \n",
       "\n",
       "     tempo  time_signature  time_signature_confidence  \\\n",
       "0   87.002               4                      0.940   \n",
       "1  150.778               1                      0.000   \n",
       "2  177.768               4                      0.446   \n",
       "3   87.433               4                      0.000   \n",
       "4  140.035               4                      0.315   \n",
       "\n",
       "   end_of_fade_in_relative  start_of_fade_out_relative  id  \n",
       "0                 0.008129                    0.938823   0  \n",
       "1                 0.001648                    0.949592   1  \n",
       "2                 0.000000                    1.000000   2  \n",
       "3                 0.000000                    0.956083   3  \n",
       "4                 0.000000                    0.985259   4  "
      ]
     },
     "execution_count": 3,
     "metadata": {},
     "output_type": "execute_result"
    }
   ],
   "source": [
    "training_df.head()"
   ]
  },
  {
   "cell_type": "code",
   "execution_count": 4,
   "metadata": {
    "collapsed": true
   },
   "outputs": [],
   "source": [
    "training_triplets_df = pd.read_csv('../data/training_triplets.csv')"
   ]
  },
  {
   "cell_type": "code",
   "execution_count": 5,
   "metadata": {
    "collapsed": false
   },
   "outputs": [
    {
     "data": {
      "text/html": [
       "<div>\n",
       "<table border=\"1\" class=\"dataframe\">\n",
       "  <thead>\n",
       "    <tr style=\"text-align: right;\">\n",
       "      <th></th>\n",
       "      <th>track_listen_count</th>\n",
       "      <th>user_id</th>\n",
       "      <th>track_id</th>\n",
       "    </tr>\n",
       "  </thead>\n",
       "  <tbody>\n",
       "    <tr>\n",
       "      <th>0</th>\n",
       "      <td>1</td>\n",
       "      <td>108811</td>\n",
       "      <td>448841</td>\n",
       "    </tr>\n",
       "    <tr>\n",
       "      <th>1</th>\n",
       "      <td>1</td>\n",
       "      <td>83893</td>\n",
       "      <td>448841</td>\n",
       "    </tr>\n",
       "    <tr>\n",
       "      <th>2</th>\n",
       "      <td>1</td>\n",
       "      <td>84614</td>\n",
       "      <td>448841</td>\n",
       "    </tr>\n",
       "    <tr>\n",
       "      <th>3</th>\n",
       "      <td>2</td>\n",
       "      <td>98036</td>\n",
       "      <td>448841</td>\n",
       "    </tr>\n",
       "    <tr>\n",
       "      <th>4</th>\n",
       "      <td>4</td>\n",
       "      <td>80305</td>\n",
       "      <td>448841</td>\n",
       "    </tr>\n",
       "  </tbody>\n",
       "</table>\n",
       "</div>"
      ],
      "text/plain": [
       "   track_listen_count  user_id  track_id\n",
       "0                   1   108811    448841\n",
       "1                   1    83893    448841\n",
       "2                   1    84614    448841\n",
       "3                   2    98036    448841\n",
       "4                   4    80305    448841"
      ]
     },
     "execution_count": 5,
     "metadata": {},
     "output_type": "execute_result"
    }
   ],
   "source": [
    "training_triplets_df.head()"
   ]
  },
  {
   "cell_type": "code",
   "execution_count": 6,
   "metadata": {
    "collapsed": false
   },
   "outputs": [],
   "source": [
    "log_count = training_triplets_df['track_listen_count'].map(lambda x: np.log(x))"
   ]
  },
  {
   "cell_type": "code",
   "execution_count": 7,
   "metadata": {
    "collapsed": false
   },
   "outputs": [
    {
     "data": {
      "text/plain": [
       "((862354,), (1491952,), 6.8276292345028518)"
      ]
     },
     "execution_count": 7,
     "metadata": {},
     "output_type": "execute_result"
    }
   ],
   "source": [
    "log_count[log_count == 0].shape, log_count.shape, max(log_count)"
   ]
  },
  {
   "cell_type": "code",
   "execution_count": 8,
   "metadata": {
    "collapsed": false
   },
   "outputs": [
    {
     "data": {
      "text/plain": [
       "(array([  8.62354000e+05,   3.19214000e+05,   1.87958000e+05,\n",
       "          7.94590000e+04,   3.00420000e+04,   9.87700000e+03,\n",
       "          2.44600000e+03,   5.06000000e+02,   8.70000000e+01,\n",
       "          9.00000000e+00]),\n",
       " array([ 0.        ,  0.68276292,  1.36552585,  2.04828877,  2.73105169,\n",
       "         3.41381462,  4.09657754,  4.77934046,  5.46210339,  6.14486631,\n",
       "         6.82762923]),\n",
       " <a list of 10 Patch objects>)"
      ]
     },
     "execution_count": 8,
     "metadata": {},
     "output_type": "execute_result"
    },
    {
     "data": {
      "image/png": "[encoded data removed]",
      "text/plain": [
       "<matplotlib.figure.Figure at 0x106b7a940>"
      ]
     },
     "metadata": {},
     "output_type": "display_data"
    }
   ],
   "source": [
    "plt.hist(log_count)"
   ]
  },
  {
   "cell_type": "code",
   "execution_count": 9,
   "metadata": {
    "collapsed": false
   },
   "outputs": [
    {
     "data": {
      "text/plain": [
       "(array([ 862354.,       0.,       0.,       0.,       0.,       0.,\n",
       "              0.,       0.,       0.,  629598.]),\n",
       " array([ 0. ,  0.1,  0.2,  0.3,  0.4,  0.5,  0.6,  0.7,  0.8,  0.9,  1. ]),\n",
       " <a list of 10 Patch objects>)"
      ]
     },
     "execution_count": 9,
     "metadata": {},
     "output_type": "execute_result"
    },
    {
     "data": {
      "image/png": "[encoded data removed]",
      "text/plain": [
       "<matplotlib.figure.Figure at 0x1068f19b0>"
      ]
     },
     "metadata": {},
     "output_type": "display_data"
    }
   ],
   "source": [
    "plt.hist(log_count.map(lambda x: 1 if x != 0. else 0))"
   ]
  },
  {
   "cell_type": "code",
   "execution_count": 10,
   "metadata": {
    "collapsed": false
   },
   "outputs": [],
   "source": [
    "listened_tracks_by_user_count = training_triplets_df.groupby(by='user_id').sum()['track_id']"
   ]
  },
  {
   "cell_type": "code",
   "execution_count": 11,
   "metadata": {
    "collapsed": false
   },
   "outputs": [],
   "source": [
    "listened_tracks_by_user_count_log = np.log(listened_tracks_by_user_count)"
   ]
  },
  {
   "cell_type": "code",
   "execution_count": 12,
   "metadata": {
    "collapsed": false
   },
   "outputs": [
    {
     "data": {
      "text/plain": [
       "(array([  7.00000000e+00,   6.80000000e+01,   5.81000000e+02,\n",
       "          5.34500000e+03,   2.06420000e+04,   2.83320000e+04,\n",
       "          2.57170000e+04,   1.96160000e+04,   9.11300000e+03,\n",
       "          5.79000000e+02]),\n",
       " array([ 12.79000188,  13.24479262,  13.69958336,  14.1543741 ,\n",
       "         14.60916484,  15.06395558,  15.51874632,  15.97353706,\n",
       "         16.4283278 ,  16.88311853,  17.33790927]),\n",
       " <a list of 10 Patch objects>)"
      ]
     },
     "execution_count": 12,
     "metadata": {},
     "output_type": "execute_result"
    },
    {
     "data": {
      "image/png": "[encoded data removed]",
      "text/plain": [
       "<matplotlib.figure.Figure at 0x1125eac50>"
      ]
     },
     "metadata": {},
     "output_type": "display_data"
    }
   ],
   "source": [
    "plt.hist(listened_tracks_by_user_count_log)"
   ]
  },
  {
   "cell_type": "code",
   "execution_count": 13,
   "metadata": {
    "collapsed": true
   },
   "outputs": [],
   "source": [
    "mean, std = listened_tracks_by_user_count_log.mean(), listened_tracks_by_user_count_log.std()"
   ]
  },
  {
   "cell_type": "code",
   "execution_count": 14,
   "metadata": {
    "collapsed": true
   },
   "outputs": [],
   "source": [
    "listened_tracks_by_user_count_log_normal = (listened_tracks_by_user_count_log - mean) / std"
   ]
  },
  {
   "cell_type": "code",
   "execution_count": 15,
   "metadata": {
    "collapsed": false
   },
   "outputs": [
    {
     "data": {
      "text/plain": [
       "(array([  7.00000000e+00,   6.80000000e+01,   5.81000000e+02,\n",
       "          5.34500000e+03,   2.06420000e+04,   2.83320000e+04,\n",
       "          2.57170000e+04,   1.96160000e+04,   9.11300000e+03,\n",
       "          5.79000000e+02]),\n",
       " array([-4.48787408, -3.74690849, -3.00594291, -2.26497732, -1.52401174,\n",
       "        -0.78304616, -0.04208057,  0.69888501,  1.4398506 ,  2.18081618,\n",
       "         2.92178176]),\n",
       " <a list of 10 Patch objects>)"
      ]
     },
     "execution_count": 15,
     "metadata": {},
     "output_type": "execute_result"
    },
    {
     "data": {
      "image/png": "[encoded data removed]",
      "text/plain": [
       "<matplotlib.figure.Figure at 0x10e7c0160>"
      ]
     },
     "metadata": {},
     "output_type": "display_data"
    }
   ],
   "source": [
    "plt.hist(listened_tracks_by_user_count_log_normal)"
   ]
  },
  {
   "cell_type": "code",
   "execution_count": 16,
   "metadata": {
    "collapsed": false
   },
   "outputs": [],
   "source": [
    "listened_tracks_by_user_count = training_triplets_df.groupby(by='user_id').count()['track_id']"
   ]
  },
  {
   "cell_type": "code",
   "execution_count": 17,
   "metadata": {
    "collapsed": false
   },
   "outputs": [
    {
     "data": {
      "text/plain": [
       "(array([  5.25330000e+04,   2.27480000e+04,   1.39420000e+04,\n",
       "          9.13100000e+03,   5.77000000e+03,   3.87000000e+03,\n",
       "          1.39700000e+03,   4.94000000e+02,   1.03000000e+02,\n",
       "          1.20000000e+01]),\n",
       " array([  5. ,  10.2,  15.4,  20.6,  25.8,  31. ,  36.2,  41.4,  46.6,\n",
       "         51.8,  57. ]),\n",
       " <a list of 10 Patch objects>)"
      ]
     },
     "execution_count": 17,
     "metadata": {},
     "output_type": "execute_result"
    },
    {
     "data": {
      "image/png": "[encoded data removed]",
      "text/plain": [
       "<matplotlib.figure.Figure at 0x111a1d6d8>"
      ]
     },
     "metadata": {},
     "output_type": "display_data"
    }
   ],
   "source": [
    "plt.hist(listened_tracks_by_user_count)"
   ]
  },
  {
   "cell_type": "code",
   "execution_count": 18,
   "metadata": {
    "collapsed": false
   },
   "outputs": [
    {
     "data": {
      "text/plain": [
       "(array([  4.72770000e+04,   2.05210000e+04,   1.25280000e+04,\n",
       "          8.20400000e+03,   5.20200000e+03,   3.47600000e+03,\n",
       "          1.24500000e+03,   4.38000000e+02,   9.70000000e+01,\n",
       "          1.20000000e+01]),\n",
       " array([  5. ,  10.2,  15.4,  20.6,  25.8,  31. ,  36.2,  41.4,  46.6,\n",
       "         51.8,  57. ]),\n",
       " <a list of 10 Patch objects>)"
      ]
     },
     "execution_count": 18,
     "metadata": {},
     "output_type": "execute_result"
    },
    {
     "data": {
      "image/png": "[encoded data removed]",
      "text/plain": [
       "<matplotlib.figure.Figure at 0x10e8d74a8>"
      ]
     },
     "metadata": {},
     "output_type": "display_data"
    }
   ],
   "source": [
    "plt.hist(listened_tracks_by_user_count[: -int(listened_tracks_by_user_count.shape[0] * 0.1)])"
   ]
  },
  {
   "cell_type": "code",
   "execution_count": 19,
   "metadata": {
    "collapsed": false
   },
   "outputs": [],
   "source": [
    "merged_df = pd.merge(training_triplets_df, training_df, left_on='track_id', right_on='id')"
   ]
  },
  {
   "cell_type": "code",
   "execution_count": 20,
   "metadata": {
    "collapsed": false
   },
   "outputs": [
    {
     "data": {
      "text/html": [
       "<div>\n",
       "<table border=\"1\" class=\"dataframe\">\n",
       "  <thead>\n",
       "    <tr style=\"text-align: right;\">\n",
       "      <th></th>\n",
       "      <th>track_listen_count</th>\n",
       "      <th>user_id</th>\n",
       "      <th>track_id</th>\n",
       "      <th>artist_familiarity</th>\n",
       "      <th>artist_hotttnesss</th>\n",
       "      <th>danceability</th>\n",
       "      <th>duration</th>\n",
       "      <th>energy</th>\n",
       "      <th>key</th>\n",
       "      <th>key_confidence</th>\n",
       "      <th>loudness</th>\n",
       "      <th>mode</th>\n",
       "      <th>mode_confidence</th>\n",
       "      <th>song_hotttnesss</th>\n",
       "      <th>tempo</th>\n",
       "      <th>time_signature</th>\n",
       "      <th>time_signature_confidence</th>\n",
       "      <th>end_of_fade_in_relative</th>\n",
       "      <th>start_of_fade_out_relative</th>\n",
       "      <th>id</th>\n",
       "    </tr>\n",
       "  </thead>\n",
       "  <tbody>\n",
       "    <tr>\n",
       "      <th>count</th>\n",
       "      <td>1.491952e+06</td>\n",
       "      <td>1.491952e+06</td>\n",
       "      <td>1.491952e+06</td>\n",
       "      <td>1.491952e+06</td>\n",
       "      <td>1.491952e+06</td>\n",
       "      <td>1491952.0</td>\n",
       "      <td>1.491952e+06</td>\n",
       "      <td>1491952.0</td>\n",
       "      <td>1.491952e+06</td>\n",
       "      <td>1.491952e+06</td>\n",
       "      <td>1.491952e+06</td>\n",
       "      <td>1.491952e+06</td>\n",
       "      <td>1.491952e+06</td>\n",
       "      <td>1.491952e+06</td>\n",
       "      <td>1.491952e+06</td>\n",
       "      <td>1.491952e+06</td>\n",
       "      <td>1.491952e+06</td>\n",
       "      <td>1.491952e+06</td>\n",
       "      <td>1.491952e+06</td>\n",
       "      <td>1.491952e+06</td>\n",
       "    </tr>\n",
       "    <tr>\n",
       "      <th>mean</th>\n",
       "      <td>3.179719e+00</td>\n",
       "      <td>5.503632e+04</td>\n",
       "      <td>5.005612e+05</td>\n",
       "      <td>7.285955e-01</td>\n",
       "      <td>5.509786e-01</td>\n",
       "      <td>0.0</td>\n",
       "      <td>2.489517e+02</td>\n",
       "      <td>0.0</td>\n",
       "      <td>5.334607e+00</td>\n",
       "      <td>4.537434e-01</td>\n",
       "      <td>-8.213840e+00</td>\n",
       "      <td>6.658029e-01</td>\n",
       "      <td>4.898975e-01</td>\n",
       "      <td>5.861277e-01</td>\n",
       "      <td>1.247204e+02</td>\n",
       "      <td>3.732686e+00</td>\n",
       "      <td>5.568243e-01</td>\n",
       "      <td>3.501899e-03</td>\n",
       "      <td>9.615961e-01</td>\n",
       "      <td>5.005612e+05</td>\n",
       "    </tr>\n",
       "    <tr>\n",
       "      <th>std</th>\n",
       "      <td>7.015023e+00</td>\n",
       "      <td>3.177688e+04</td>\n",
       "      <td>2.893609e+05</td>\n",
       "      <td>1.371421e-01</td>\n",
       "      <td>1.532109e-01</td>\n",
       "      <td>0.0</td>\n",
       "      <td>9.622006e+01</td>\n",
       "      <td>0.0</td>\n",
       "      <td>3.600613e+00</td>\n",
       "      <td>2.699813e-01</td>\n",
       "      <td>4.234421e+00</td>\n",
       "      <td>4.717092e-01</td>\n",
       "      <td>1.880531e-01</td>\n",
       "      <td>3.080274e-01</td>\n",
       "      <td>3.259386e+01</td>\n",
       "      <td>1.051865e+00</td>\n",
       "      <td>3.589276e-01</td>\n",
       "      <td>8.487266e-03</td>\n",
       "      <td>2.458107e-02</td>\n",
       "      <td>2.893609e+05</td>\n",
       "    </tr>\n",
       "    <tr>\n",
       "      <th>min</th>\n",
       "      <td>1.000000e+00</td>\n",
       "      <td>0.000000e+00</td>\n",
       "      <td>1.800000e+01</td>\n",
       "      <td>0.000000e+00</td>\n",
       "      <td>0.000000e+00</td>\n",
       "      <td>0.0</td>\n",
       "      <td>5.220000e-01</td>\n",
       "      <td>0.0</td>\n",
       "      <td>0.000000e+00</td>\n",
       "      <td>0.000000e+00</td>\n",
       "      <td>-5.164300e+01</td>\n",
       "      <td>0.000000e+00</td>\n",
       "      <td>0.000000e+00</td>\n",
       "      <td>0.000000e+00</td>\n",
       "      <td>0.000000e+00</td>\n",
       "      <td>0.000000e+00</td>\n",
       "      <td>0.000000e+00</td>\n",
       "      <td>0.000000e+00</td>\n",
       "      <td>7.684996e-02</td>\n",
       "      <td>1.800000e+01</td>\n",
       "    </tr>\n",
       "    <tr>\n",
       "      <th>25%</th>\n",
       "      <td>1.000000e+00</td>\n",
       "      <td>2.745400e+04</td>\n",
       "      <td>2.468248e+05</td>\n",
       "      <td>6.410370e-01</td>\n",
       "      <td>4.510372e-01</td>\n",
       "      <td>0.0</td>\n",
       "      <td>2.006983e+02</td>\n",
       "      <td>0.0</td>\n",
       "      <td>2.000000e+00</td>\n",
       "      <td>2.460000e-01</td>\n",
       "      <td>-1.002000e+01</td>\n",
       "      <td>0.000000e+00</td>\n",
       "      <td>3.750000e-01</td>\n",
       "      <td>4.574472e-01</td>\n",
       "      <td>9.957200e+01</td>\n",
       "      <td>4.000000e+00</td>\n",
       "      <td>2.390000e-01</td>\n",
       "      <td>0.000000e+00</td>\n",
       "      <td>9.471679e-01</td>\n",
       "      <td>2.468248e+05</td>\n",
       "    </tr>\n",
       "    <tr>\n",
       "      <th>50%</th>\n",
       "      <td>1.000000e+00</td>\n",
       "      <td>5.510300e+04</td>\n",
       "      <td>5.009450e+05</td>\n",
       "      <td>7.534948e-01</td>\n",
       "      <td>5.353895e-01</td>\n",
       "      <td>0.0</td>\n",
       "      <td>2.341873e+02</td>\n",
       "      <td>0.0</td>\n",
       "      <td>5.000000e+00</td>\n",
       "      <td>4.700000e-01</td>\n",
       "      <td>-7.139000e+00</td>\n",
       "      <td>1.000000e+00</td>\n",
       "      <td>5.000000e-01</td>\n",
       "      <td>6.736368e-01</td>\n",
       "      <td>1.226070e+02</td>\n",
       "      <td>4.000000e+00</td>\n",
       "      <td>6.090000e-01</td>\n",
       "      <td>8.143841e-04</td>\n",
       "      <td>9.646740e-01</td>\n",
       "      <td>5.009450e+05</td>\n",
       "    </tr>\n",
       "    <tr>\n",
       "      <th>75%</th>\n",
       "      <td>3.000000e+00</td>\n",
       "      <td>8.255100e+04</td>\n",
       "      <td>7.559880e+05</td>\n",
       "      <td>8.359565e-01</td>\n",
       "      <td>6.143460e-01</td>\n",
       "      <td>0.0</td>\n",
       "      <td>2.768453e+02</td>\n",
       "      <td>0.0</td>\n",
       "      <td>9.000000e+00</td>\n",
       "      <td>6.520000e-01</td>\n",
       "      <td>-5.306000e+00</td>\n",
       "      <td>1.000000e+00</td>\n",
       "      <td>6.180000e-01</td>\n",
       "      <td>8.059334e-01</td>\n",
       "      <td>1.453787e+02</td>\n",
       "      <td>4.000000e+00</td>\n",
       "      <td>8.910000e-01</td>\n",
       "      <td>2.049809e-03</td>\n",
       "      <td>9.792091e-01</td>\n",
       "      <td>7.559880e+05</td>\n",
       "    </tr>\n",
       "    <tr>\n",
       "      <th>max</th>\n",
       "      <td>9.230000e+02</td>\n",
       "      <td>1.099990e+05</td>\n",
       "      <td>9.999880e+05</td>\n",
       "      <td>1.000000e+00</td>\n",
       "      <td>1.082503e+00</td>\n",
       "      <td>0.0</td>\n",
       "      <td>3.024666e+03</td>\n",
       "      <td>0.0</td>\n",
       "      <td>1.100000e+01</td>\n",
       "      <td>1.000000e+00</td>\n",
       "      <td>2.967000e+00</td>\n",
       "      <td>1.000000e+00</td>\n",
       "      <td>1.000000e+00</td>\n",
       "      <td>1.000000e+00</td>\n",
       "      <td>2.842080e+02</td>\n",
       "      <td>7.000000e+00</td>\n",
       "      <td>1.000000e+00</td>\n",
       "      <td>8.176242e-01</td>\n",
       "      <td>1.000169e+00</td>\n",
       "      <td>9.999880e+05</td>\n",
       "    </tr>\n",
       "  </tbody>\n",
       "</table>\n",
       "</div>"
      ],
      "text/plain": [
       "       track_listen_count       user_id      track_id  artist_familiarity  \\\n",
       "count        1.491952e+06  1.491952e+06  1.491952e+06        1.491952e+06   \n",
       "mean         3.179719e+00  5.503632e+04  5.005612e+05        7.285955e-01   \n",
       "std          7.015023e+00  3.177688e+04  2.893609e+05        1.371421e-01   \n",
       "min          1.000000e+00  0.000000e+00  1.800000e+01        0.000000e+00   \n",
       "25%          1.000000e+00  2.745400e+04  2.468248e+05        6.410370e-01   \n",
       "50%          1.000000e+00  5.510300e+04  5.009450e+05        7.534948e-01   \n",
       "75%          3.000000e+00  8.255100e+04  7.559880e+05        8.359565e-01   \n",
       "max          9.230000e+02  1.099990e+05  9.999880e+05        1.000000e+00   \n",
       "\n",
       "       artist_hotttnesss  danceability      duration     energy           key  \\\n",
       "count       1.491952e+06     1491952.0  1.491952e+06  1491952.0  1.491952e+06   \n",
       "mean        5.509786e-01           0.0  2.489517e+02        0.0  5.334607e+00   \n",
       "std         1.532109e-01           0.0  9.622006e+01        0.0  3.600613e+00   \n",
       "min         0.000000e+00           0.0  5.220000e-01        0.0  0.000000e+00   \n",
       "25%         4.510372e-01           0.0  2.006983e+02        0.0  2.000000e+00   \n",
       "50%         5.353895e-01           0.0  2.341873e+02        0.0  5.000000e+00   \n",
       "75%         6.143460e-01           0.0  2.768453e+02        0.0  9.000000e+00   \n",
       "max         1.082503e+00           0.0  3.024666e+03        0.0  1.100000e+01   \n",
       "\n",
       "       key_confidence      loudness          mode  mode_confidence  \\\n",
       "count    1.491952e+06  1.491952e+06  1.491952e+06     1.491952e+06   \n",
       "mean     4.537434e-01 -8.213840e+00  6.658029e-01     4.898975e-01   \n",
       "std      2.699813e-01  4.234421e+00  4.717092e-01     1.880531e-01   \n",
       "min      0.000000e+00 -5.164300e+01  0.000000e+00     0.000000e+00   \n",
       "25%      2.460000e-01 -1.002000e+01  0.000000e+00     3.750000e-01   \n",
       "50%      4.700000e-01 -7.139000e+00  1.000000e+00     5.000000e-01   \n",
       "75%      6.520000e-01 -5.306000e+00  1.000000e+00     6.180000e-01   \n",
       "max      1.000000e+00  2.967000e+00  1.000000e+00     1.000000e+00   \n",
       "\n",
       "       song_hotttnesss         tempo  time_signature  \\\n",
       "count     1.491952e+06  1.491952e+06    1.491952e+06   \n",
       "mean      5.861277e-01  1.247204e+02    3.732686e+00   \n",
       "std       3.080274e-01  3.259386e+01    1.051865e+00   \n",
       "min       0.000000e+00  0.000000e+00    0.000000e+00   \n",
       "25%       4.574472e-01  9.957200e+01    4.000000e+00   \n",
       "50%       6.736368e-01  1.226070e+02    4.000000e+00   \n",
       "75%       8.059334e-01  1.453787e+02    4.000000e+00   \n",
       "max       1.000000e+00  2.842080e+02    7.000000e+00   \n",
       "\n",
       "       time_signature_confidence  end_of_fade_in_relative  \\\n",
       "count               1.491952e+06             1.491952e+06   \n",
       "mean                5.568243e-01             3.501899e-03   \n",
       "std                 3.589276e-01             8.487266e-03   \n",
       "min                 0.000000e+00             0.000000e+00   \n",
       "25%                 2.390000e-01             0.000000e+00   \n",
       "50%                 6.090000e-01             8.143841e-04   \n",
       "75%                 8.910000e-01             2.049809e-03   \n",
       "max                 1.000000e+00             8.176242e-01   \n",
       "\n",
       "       start_of_fade_out_relative            id  \n",
       "count                1.491952e+06  1.491952e+06  \n",
       "mean                 9.615961e-01  5.005612e+05  \n",
       "std                  2.458107e-02  2.893609e+05  \n",
       "min                  7.684996e-02  1.800000e+01  \n",
       "25%                  9.471679e-01  2.468248e+05  \n",
       "50%                  9.646740e-01  5.009450e+05  \n",
       "75%                  9.792091e-01  7.559880e+05  \n",
       "max                  1.000169e+00  9.999880e+05  "
      ]
     },
     "execution_count": 20,
     "metadata": {},
     "output_type": "execute_result"
    }
   ],
   "source": [
    "merged_df.describe()"
   ]
  },
  {
   "cell_type": "code",
   "execution_count": 21,
   "metadata": {
    "collapsed": true
   },
   "outputs": [],
   "source": [
    "users_meged_df = merged_df.groupby(by='user_id').std()"
   ]
  },
  {
   "cell_type": "code",
   "execution_count": 22,
   "metadata": {
    "collapsed": false
   },
   "outputs": [
    {
     "data": {
      "text/html": [
       "<div>\n",
       "<table border=\"1\" class=\"dataframe\">\n",
       "  <thead>\n",
       "    <tr style=\"text-align: right;\">\n",
       "      <th></th>\n",
       "      <th>track_listen_count</th>\n",
       "      <th>track_id</th>\n",
       "      <th>artist_familiarity</th>\n",
       "      <th>artist_hotttnesss</th>\n",
       "      <th>danceability</th>\n",
       "      <th>duration</th>\n",
       "      <th>energy</th>\n",
       "      <th>key</th>\n",
       "      <th>key_confidence</th>\n",
       "      <th>loudness</th>\n",
       "      <th>mode</th>\n",
       "      <th>mode_confidence</th>\n",
       "      <th>song_hotttnesss</th>\n",
       "      <th>tempo</th>\n",
       "      <th>time_signature</th>\n",
       "      <th>time_signature_confidence</th>\n",
       "      <th>end_of_fade_in_relative</th>\n",
       "      <th>start_of_fade_out_relative</th>\n",
       "      <th>id</th>\n",
       "    </tr>\n",
       "    <tr>\n",
       "      <th>user_id</th>\n",
       "      <th></th>\n",
       "      <th></th>\n",
       "      <th></th>\n",
       "      <th></th>\n",
       "      <th></th>\n",
       "      <th></th>\n",
       "      <th></th>\n",
       "      <th></th>\n",
       "      <th></th>\n",
       "      <th></th>\n",
       "      <th></th>\n",
       "      <th></th>\n",
       "      <th></th>\n",
       "      <th></th>\n",
       "      <th></th>\n",
       "      <th></th>\n",
       "      <th></th>\n",
       "      <th></th>\n",
       "      <th></th>\n",
       "    </tr>\n",
       "  </thead>\n",
       "  <tbody>\n",
       "    <tr>\n",
       "      <th>0</th>\n",
       "      <td>0.726483</td>\n",
       "      <td>265201.129282</td>\n",
       "      <td>0.043444</td>\n",
       "      <td>0.038527</td>\n",
       "      <td>0.0</td>\n",
       "      <td>37.190150</td>\n",
       "      <td>0.0</td>\n",
       "      <td>3.844188</td>\n",
       "      <td>0.281788</td>\n",
       "      <td>1.233524</td>\n",
       "      <td>0.440959</td>\n",
       "      <td>0.145276</td>\n",
       "      <td>0.138338</td>\n",
       "      <td>22.805048</td>\n",
       "      <td>0.000000</td>\n",
       "      <td>0.408276</td>\n",
       "      <td>0.007505</td>\n",
       "      <td>0.026507</td>\n",
       "      <td>265201.129282</td>\n",
       "    </tr>\n",
       "    <tr>\n",
       "      <th>1</th>\n",
       "      <td>2.750207</td>\n",
       "      <td>309763.329528</td>\n",
       "      <td>0.091141</td>\n",
       "      <td>0.032939</td>\n",
       "      <td>0.0</td>\n",
       "      <td>181.502825</td>\n",
       "      <td>0.0</td>\n",
       "      <td>3.986340</td>\n",
       "      <td>0.280970</td>\n",
       "      <td>4.214234</td>\n",
       "      <td>0.467099</td>\n",
       "      <td>0.207595</td>\n",
       "      <td>0.285836</td>\n",
       "      <td>17.589786</td>\n",
       "      <td>0.404520</td>\n",
       "      <td>0.353339</td>\n",
       "      <td>0.001342</td>\n",
       "      <td>0.014481</td>\n",
       "      <td>309763.329528</td>\n",
       "    </tr>\n",
       "    <tr>\n",
       "      <th>2</th>\n",
       "      <td>3.799187</td>\n",
       "      <td>324792.925607</td>\n",
       "      <td>0.093824</td>\n",
       "      <td>0.105140</td>\n",
       "      <td>0.0</td>\n",
       "      <td>65.958656</td>\n",
       "      <td>0.0</td>\n",
       "      <td>3.072650</td>\n",
       "      <td>0.254174</td>\n",
       "      <td>4.915424</td>\n",
       "      <td>0.469668</td>\n",
       "      <td>0.192284</td>\n",
       "      <td>0.380824</td>\n",
       "      <td>37.393854</td>\n",
       "      <td>0.831370</td>\n",
       "      <td>0.330918</td>\n",
       "      <td>0.007492</td>\n",
       "      <td>0.032895</td>\n",
       "      <td>324792.925607</td>\n",
       "    </tr>\n",
       "    <tr>\n",
       "      <th>3</th>\n",
       "      <td>0.707107</td>\n",
       "      <td>187820.140845</td>\n",
       "      <td>0.109581</td>\n",
       "      <td>0.064610</td>\n",
       "      <td>0.0</td>\n",
       "      <td>52.148778</td>\n",
       "      <td>0.0</td>\n",
       "      <td>4.085884</td>\n",
       "      <td>0.313151</td>\n",
       "      <td>3.637263</td>\n",
       "      <td>0.440959</td>\n",
       "      <td>0.247239</td>\n",
       "      <td>0.267146</td>\n",
       "      <td>43.891734</td>\n",
       "      <td>0.500000</td>\n",
       "      <td>0.257885</td>\n",
       "      <td>0.000830</td>\n",
       "      <td>0.018489</td>\n",
       "      <td>187820.140845</td>\n",
       "    </tr>\n",
       "    <tr>\n",
       "      <th>4</th>\n",
       "      <td>0.491869</td>\n",
       "      <td>273930.156199</td>\n",
       "      <td>0.100659</td>\n",
       "      <td>0.083457</td>\n",
       "      <td>0.0</td>\n",
       "      <td>88.199970</td>\n",
       "      <td>0.0</td>\n",
       "      <td>3.447621</td>\n",
       "      <td>0.296874</td>\n",
       "      <td>3.858517</td>\n",
       "      <td>0.507007</td>\n",
       "      <td>0.235685</td>\n",
       "      <td>0.319368</td>\n",
       "      <td>44.138687</td>\n",
       "      <td>0.856074</td>\n",
       "      <td>0.345430</td>\n",
       "      <td>0.008751</td>\n",
       "      <td>0.025945</td>\n",
       "      <td>273930.156199</td>\n",
       "    </tr>\n",
       "  </tbody>\n",
       "</table>\n",
       "</div>"
      ],
      "text/plain": [
       "         track_listen_count       track_id  artist_familiarity  \\\n",
       "user_id                                                          \n",
       "0                  0.726483  265201.129282            0.043444   \n",
       "1                  2.750207  309763.329528            0.091141   \n",
       "2                  3.799187  324792.925607            0.093824   \n",
       "3                  0.707107  187820.140845            0.109581   \n",
       "4                  0.491869  273930.156199            0.100659   \n",
       "\n",
       "         artist_hotttnesss  danceability    duration  energy       key  \\\n",
       "user_id                                                                  \n",
       "0                 0.038527           0.0   37.190150     0.0  3.844188   \n",
       "1                 0.032939           0.0  181.502825     0.0  3.986340   \n",
       "2                 0.105140           0.0   65.958656     0.0  3.072650   \n",
       "3                 0.064610           0.0   52.148778     0.0  4.085884   \n",
       "4                 0.083457           0.0   88.199970     0.0  3.447621   \n",
       "\n",
       "         key_confidence  loudness      mode  mode_confidence  song_hotttnesss  \\\n",
       "user_id                                                                         \n",
       "0              0.281788  1.233524  0.440959         0.145276         0.138338   \n",
       "1              0.280970  4.214234  0.467099         0.207595         0.285836   \n",
       "2              0.254174  4.915424  0.469668         0.192284         0.380824   \n",
       "3              0.313151  3.637263  0.440959         0.247239         0.267146   \n",
       "4              0.296874  3.858517  0.507007         0.235685         0.319368   \n",
       "\n",
       "             tempo  time_signature  time_signature_confidence  \\\n",
       "user_id                                                         \n",
       "0        22.805048        0.000000                   0.408276   \n",
       "1        17.589786        0.404520                   0.353339   \n",
       "2        37.393854        0.831370                   0.330918   \n",
       "3        43.891734        0.500000                   0.257885   \n",
       "4        44.138687        0.856074                   0.345430   \n",
       "\n",
       "         end_of_fade_in_relative  start_of_fade_out_relative             id  \n",
       "user_id                                                                      \n",
       "0                       0.007505                    0.026507  265201.129282  \n",
       "1                       0.001342                    0.014481  309763.329528  \n",
       "2                       0.007492                    0.032895  324792.925607  \n",
       "3                       0.000830                    0.018489  187820.140845  \n",
       "4                       0.008751                    0.025945  273930.156199  "
      ]
     },
     "execution_count": 22,
     "metadata": {},
     "output_type": "execute_result"
    }
   ],
   "source": [
    "users_meged_df.head()"
   ]
  },
  {
   "cell_type": "code",
   "execution_count": 23,
   "metadata": {
    "collapsed": true
   },
   "outputs": [],
   "source": [
    "merged_df.drop(['danceability', 'energy'], axis=1, inplace=True)"
   ]
  },
  {
   "cell_type": "code",
   "execution_count": 24,
   "metadata": {
    "collapsed": true
   },
   "outputs": [],
   "source": [
    "merged_df['tempo'] = merged_df['tempo'].map(lambda x: np.log(x + 1))"
   ]
  },
  {
   "cell_type": "code",
   "execution_count": 25,
   "metadata": {
    "collapsed": true
   },
   "outputs": [],
   "source": [
    "merged_df['duration'] = merged_df['duration'].map(lambda x: np.log(x))"
   ]
  },
  {
   "cell_type": "code",
   "execution_count": 26,
   "metadata": {
    "collapsed": false
   },
   "outputs": [
    {
     "data": {
      "text/html": [
       "<div>\n",
       "<table border=\"1\" class=\"dataframe\">\n",
       "  <thead>\n",
       "    <tr style=\"text-align: right;\">\n",
       "      <th></th>\n",
       "      <th>track_listen_count</th>\n",
       "      <th>user_id</th>\n",
       "      <th>track_id</th>\n",
       "      <th>artist_familiarity</th>\n",
       "      <th>artist_hotttnesss</th>\n",
       "      <th>duration</th>\n",
       "      <th>key</th>\n",
       "      <th>key_confidence</th>\n",
       "      <th>loudness</th>\n",
       "      <th>mode</th>\n",
       "      <th>mode_confidence</th>\n",
       "      <th>song_hotttnesss</th>\n",
       "      <th>tempo</th>\n",
       "      <th>time_signature</th>\n",
       "      <th>time_signature_confidence</th>\n",
       "      <th>end_of_fade_in_relative</th>\n",
       "      <th>start_of_fade_out_relative</th>\n",
       "      <th>id</th>\n",
       "    </tr>\n",
       "  </thead>\n",
       "  <tbody>\n",
       "    <tr>\n",
       "      <th>count</th>\n",
       "      <td>1.491952e+06</td>\n",
       "      <td>1.491952e+06</td>\n",
       "      <td>1.491952e+06</td>\n",
       "      <td>1.491952e+06</td>\n",
       "      <td>1.491952e+06</td>\n",
       "      <td>1.491952e+06</td>\n",
       "      <td>1.491952e+06</td>\n",
       "      <td>1.491952e+06</td>\n",
       "      <td>1.491952e+06</td>\n",
       "      <td>1.491952e+06</td>\n",
       "      <td>1.491952e+06</td>\n",
       "      <td>1.491952e+06</td>\n",
       "      <td>1.491952e+06</td>\n",
       "      <td>1.491952e+06</td>\n",
       "      <td>1.491952e+06</td>\n",
       "      <td>1.491952e+06</td>\n",
       "      <td>1.491952e+06</td>\n",
       "      <td>1.491952e+06</td>\n",
       "    </tr>\n",
       "    <tr>\n",
       "      <th>mean</th>\n",
       "      <td>3.179719e+00</td>\n",
       "      <td>5.503632e+04</td>\n",
       "      <td>5.005612e+05</td>\n",
       "      <td>7.285955e-01</td>\n",
       "      <td>5.509786e-01</td>\n",
       "      <td>5.458158e+00</td>\n",
       "      <td>5.334607e+00</td>\n",
       "      <td>4.537434e-01</td>\n",
       "      <td>-8.213840e+00</td>\n",
       "      <td>6.658029e-01</td>\n",
       "      <td>4.898975e-01</td>\n",
       "      <td>5.861277e-01</td>\n",
       "      <td>4.795717e+00</td>\n",
       "      <td>3.732686e+00</td>\n",
       "      <td>5.568243e-01</td>\n",
       "      <td>3.501899e-03</td>\n",
       "      <td>9.615961e-01</td>\n",
       "      <td>5.005612e+05</td>\n",
       "    </tr>\n",
       "    <tr>\n",
       "      <th>std</th>\n",
       "      <td>7.015023e+00</td>\n",
       "      <td>3.177688e+04</td>\n",
       "      <td>2.893609e+05</td>\n",
       "      <td>1.371421e-01</td>\n",
       "      <td>1.532109e-01</td>\n",
       "      <td>3.471176e-01</td>\n",
       "      <td>3.600613e+00</td>\n",
       "      <td>2.699813e-01</td>\n",
       "      <td>4.234421e+00</td>\n",
       "      <td>4.717092e-01</td>\n",
       "      <td>1.880531e-01</td>\n",
       "      <td>3.080274e-01</td>\n",
       "      <td>3.137248e-01</td>\n",
       "      <td>1.051865e+00</td>\n",
       "      <td>3.589276e-01</td>\n",
       "      <td>8.487266e-03</td>\n",
       "      <td>2.458107e-02</td>\n",
       "      <td>2.893609e+05</td>\n",
       "    </tr>\n",
       "    <tr>\n",
       "      <th>min</th>\n",
       "      <td>1.000000e+00</td>\n",
       "      <td>0.000000e+00</td>\n",
       "      <td>1.800000e+01</td>\n",
       "      <td>0.000000e+00</td>\n",
       "      <td>0.000000e+00</td>\n",
       "      <td>-6.500877e-01</td>\n",
       "      <td>0.000000e+00</td>\n",
       "      <td>0.000000e+00</td>\n",
       "      <td>-5.164300e+01</td>\n",
       "      <td>0.000000e+00</td>\n",
       "      <td>0.000000e+00</td>\n",
       "      <td>0.000000e+00</td>\n",
       "      <td>0.000000e+00</td>\n",
       "      <td>0.000000e+00</td>\n",
       "      <td>0.000000e+00</td>\n",
       "      <td>0.000000e+00</td>\n",
       "      <td>7.684996e-02</td>\n",
       "      <td>1.800000e+01</td>\n",
       "    </tr>\n",
       "    <tr>\n",
       "      <th>25%</th>\n",
       "      <td>1.000000e+00</td>\n",
       "      <td>2.745400e+04</td>\n",
       "      <td>2.468248e+05</td>\n",
       "      <td>6.410370e-01</td>\n",
       "      <td>4.510372e-01</td>\n",
       "      <td>5.301803e+00</td>\n",
       "      <td>2.000000e+00</td>\n",
       "      <td>2.460000e-01</td>\n",
       "      <td>-1.002000e+01</td>\n",
       "      <td>0.000000e+00</td>\n",
       "      <td>3.750000e-01</td>\n",
       "      <td>4.574472e-01</td>\n",
       "      <td>4.610874e+00</td>\n",
       "      <td>4.000000e+00</td>\n",
       "      <td>2.390000e-01</td>\n",
       "      <td>0.000000e+00</td>\n",
       "      <td>9.471679e-01</td>\n",
       "      <td>2.468248e+05</td>\n",
       "    </tr>\n",
       "    <tr>\n",
       "      <th>50%</th>\n",
       "      <td>1.000000e+00</td>\n",
       "      <td>5.510300e+04</td>\n",
       "      <td>5.009450e+05</td>\n",
       "      <td>7.534948e-01</td>\n",
       "      <td>5.353895e-01</td>\n",
       "      <td>5.456121e+00</td>\n",
       "      <td>5.000000e+00</td>\n",
       "      <td>4.700000e-01</td>\n",
       "      <td>-7.139000e+00</td>\n",
       "      <td>1.000000e+00</td>\n",
       "      <td>5.000000e-01</td>\n",
       "      <td>6.736368e-01</td>\n",
       "      <td>4.817107e+00</td>\n",
       "      <td>4.000000e+00</td>\n",
       "      <td>6.090000e-01</td>\n",
       "      <td>8.143841e-04</td>\n",
       "      <td>9.646740e-01</td>\n",
       "      <td>5.009450e+05</td>\n",
       "    </tr>\n",
       "    <tr>\n",
       "      <th>75%</th>\n",
       "      <td>3.000000e+00</td>\n",
       "      <td>8.255100e+04</td>\n",
       "      <td>7.559880e+05</td>\n",
       "      <td>8.359565e-01</td>\n",
       "      <td>6.143460e-01</td>\n",
       "      <td>5.623459e+00</td>\n",
       "      <td>9.000000e+00</td>\n",
       "      <td>6.520000e-01</td>\n",
       "      <td>-5.306000e+00</td>\n",
       "      <td>1.000000e+00</td>\n",
       "      <td>6.180000e-01</td>\n",
       "      <td>8.059334e-01</td>\n",
       "      <td>4.986197e+00</td>\n",
       "      <td>4.000000e+00</td>\n",
       "      <td>8.910000e-01</td>\n",
       "      <td>2.049809e-03</td>\n",
       "      <td>9.792091e-01</td>\n",
       "      <td>7.559880e+05</td>\n",
       "    </tr>\n",
       "    <tr>\n",
       "      <th>max</th>\n",
       "      <td>9.230000e+02</td>\n",
       "      <td>1.099990e+05</td>\n",
       "      <td>9.999880e+05</td>\n",
       "      <td>1.000000e+00</td>\n",
       "      <td>1.082503e+00</td>\n",
       "      <td>8.014556e+00</td>\n",
       "      <td>1.100000e+01</td>\n",
       "      <td>1.000000e+00</td>\n",
       "      <td>2.967000e+00</td>\n",
       "      <td>1.000000e+00</td>\n",
       "      <td>1.000000e+00</td>\n",
       "      <td>1.000000e+00</td>\n",
       "      <td>5.653219e+00</td>\n",
       "      <td>7.000000e+00</td>\n",
       "      <td>1.000000e+00</td>\n",
       "      <td>8.176242e-01</td>\n",
       "      <td>1.000169e+00</td>\n",
       "      <td>9.999880e+05</td>\n",
       "    </tr>\n",
       "  </tbody>\n",
       "</table>\n",
       "</div>"
      ],
      "text/plain": [
       "       track_listen_count       user_id      track_id  artist_familiarity  \\\n",
       "count        1.491952e+06  1.491952e+06  1.491952e+06        1.491952e+06   \n",
       "mean         3.179719e+00  5.503632e+04  5.005612e+05        7.285955e-01   \n",
       "std          7.015023e+00  3.177688e+04  2.893609e+05        1.371421e-01   \n",
       "min          1.000000e+00  0.000000e+00  1.800000e+01        0.000000e+00   \n",
       "25%          1.000000e+00  2.745400e+04  2.468248e+05        6.410370e-01   \n",
       "50%          1.000000e+00  5.510300e+04  5.009450e+05        7.534948e-01   \n",
       "75%          3.000000e+00  8.255100e+04  7.559880e+05        8.359565e-01   \n",
       "max          9.230000e+02  1.099990e+05  9.999880e+05        1.000000e+00   \n",
       "\n",
       "       artist_hotttnesss      duration           key  key_confidence  \\\n",
       "count       1.491952e+06  1.491952e+06  1.491952e+06    1.491952e+06   \n",
       "mean        5.509786e-01  5.458158e+00  5.334607e+00    4.537434e-01   \n",
       "std         1.532109e-01  3.471176e-01  3.600613e+00    2.699813e-01   \n",
       "min         0.000000e+00 -6.500877e-01  0.000000e+00    0.000000e+00   \n",
       "25%         4.510372e-01  5.301803e+00  2.000000e+00    2.460000e-01   \n",
       "50%         5.353895e-01  5.456121e+00  5.000000e+00    4.700000e-01   \n",
       "75%         6.143460e-01  5.623459e+00  9.000000e+00    6.520000e-01   \n",
       "max         1.082503e+00  8.014556e+00  1.100000e+01    1.000000e+00   \n",
       "\n",
       "           loudness          mode  mode_confidence  song_hotttnesss  \\\n",
       "count  1.491952e+06  1.491952e+06     1.491952e+06     1.491952e+06   \n",
       "mean  -8.213840e+00  6.658029e-01     4.898975e-01     5.861277e-01   \n",
       "std    4.234421e+00  4.717092e-01     1.880531e-01     3.080274e-01   \n",
       "min   -5.164300e+01  0.000000e+00     0.000000e+00     0.000000e+00   \n",
       "25%   -1.002000e+01  0.000000e+00     3.750000e-01     4.574472e-01   \n",
       "50%   -7.139000e+00  1.000000e+00     5.000000e-01     6.736368e-01   \n",
       "75%   -5.306000e+00  1.000000e+00     6.180000e-01     8.059334e-01   \n",
       "max    2.967000e+00  1.000000e+00     1.000000e+00     1.000000e+00   \n",
       "\n",
       "              tempo  time_signature  time_signature_confidence  \\\n",
       "count  1.491952e+06    1.491952e+06               1.491952e+06   \n",
       "mean   4.795717e+00    3.732686e+00               5.568243e-01   \n",
       "std    3.137248e-01    1.051865e+00               3.589276e-01   \n",
       "min    0.000000e+00    0.000000e+00               0.000000e+00   \n",
       "25%    4.610874e+00    4.000000e+00               2.390000e-01   \n",
       "50%    4.817107e+00    4.000000e+00               6.090000e-01   \n",
       "75%    4.986197e+00    4.000000e+00               8.910000e-01   \n",
       "max    5.653219e+00    7.000000e+00               1.000000e+00   \n",
       "\n",
       "       end_of_fade_in_relative  start_of_fade_out_relative            id  \n",
       "count             1.491952e+06                1.491952e+06  1.491952e+06  \n",
       "mean              3.501899e-03                9.615961e-01  5.005612e+05  \n",
       "std               8.487266e-03                2.458107e-02  2.893609e+05  \n",
       "min               0.000000e+00                7.684996e-02  1.800000e+01  \n",
       "25%               0.000000e+00                9.471679e-01  2.468248e+05  \n",
       "50%               8.143841e-04                9.646740e-01  5.009450e+05  \n",
       "75%               2.049809e-03                9.792091e-01  7.559880e+05  \n",
       "max               8.176242e-01                1.000169e+00  9.999880e+05  "
      ]
     },
     "execution_count": 26,
     "metadata": {},
     "output_type": "execute_result"
    }
   ],
   "source": [
    "merged_df.describe()"
   ]
  },
  {
   "cell_type": "code",
   "execution_count": 27,
   "metadata": {
    "collapsed": true
   },
   "outputs": [],
   "source": [
    "attributes = ['artist_familiarity', 'artist_hotttnesss', 'duration', \n",
    "              'key', 'key_confidence', 'loudness', 'song_hotttnesss',\n",
    "              'tempo', 'end_of_fade_in_relative', 'start_of_fade_out_relative',\n",
    "              'loudness']"
   ]
  },
  {
   "cell_type": "code",
   "execution_count": 28,
   "metadata": {
    "collapsed": true
   },
   "outputs": [],
   "source": [
    "for attr in attributes:\n",
    "    mean = merged_df[attr].mean()\n",
    "    std = merged_df[attr].std()\n",
    "    merged_df[attr] = merged_df[attr].apply(lambda x: (x - mean) / std)"
   ]
  },
  {
   "cell_type": "code",
   "execution_count": 29,
   "metadata": {
    "collapsed": true
   },
   "outputs": [],
   "source": [
    "users_meged_df = merged_df.groupby(by='user_id').std()"
   ]
  },
  {
   "cell_type": "code",
   "execution_count": 30,
   "metadata": {
    "collapsed": false
   },
   "outputs": [
    {
     "data": {
      "text/html": [
       "<div>\n",
       "<table border=\"1\" class=\"dataframe\">\n",
       "  <thead>\n",
       "    <tr style=\"text-align: right;\">\n",
       "      <th></th>\n",
       "      <th>track_listen_count</th>\n",
       "      <th>track_id</th>\n",
       "      <th>artist_familiarity</th>\n",
       "      <th>artist_hotttnesss</th>\n",
       "      <th>duration</th>\n",
       "      <th>key</th>\n",
       "      <th>key_confidence</th>\n",
       "      <th>loudness</th>\n",
       "      <th>mode</th>\n",
       "      <th>mode_confidence</th>\n",
       "      <th>song_hotttnesss</th>\n",
       "      <th>tempo</th>\n",
       "      <th>time_signature</th>\n",
       "      <th>time_signature_confidence</th>\n",
       "      <th>end_of_fade_in_relative</th>\n",
       "      <th>start_of_fade_out_relative</th>\n",
       "      <th>id</th>\n",
       "    </tr>\n",
       "  </thead>\n",
       "  <tbody>\n",
       "    <tr>\n",
       "      <th>count</th>\n",
       "      <td>110000.000000</td>\n",
       "      <td>110000.000000</td>\n",
       "      <td>110000.000000</td>\n",
       "      <td>110000.000000</td>\n",
       "      <td>110000.000000</td>\n",
       "      <td>110000.000000</td>\n",
       "      <td>110000.000000</td>\n",
       "      <td>110000.000000</td>\n",
       "      <td>110000.000000</td>\n",
       "      <td>110000.000000</td>\n",
       "      <td>110000.000000</td>\n",
       "      <td>110000.000000</td>\n",
       "      <td>110000.000000</td>\n",
       "      <td>110000.000000</td>\n",
       "      <td>110000.000000</td>\n",
       "      <td>110000.000000</td>\n",
       "      <td>110000.000000</td>\n",
       "    </tr>\n",
       "    <tr>\n",
       "      <th>mean</th>\n",
       "      <td>3.194263</td>\n",
       "      <td>284767.852472</td>\n",
       "      <td>0.858051</td>\n",
       "      <td>0.813997</td>\n",
       "      <td>0.897697</td>\n",
       "      <td>0.981949</td>\n",
       "      <td>0.969217</td>\n",
       "      <td>0.868341</td>\n",
       "      <td>0.454094</td>\n",
       "      <td>0.179036</td>\n",
       "      <td>0.920267</td>\n",
       "      <td>0.857460</td>\n",
       "      <td>0.935701</td>\n",
       "      <td>0.345626</td>\n",
       "      <td>0.713346</td>\n",
       "      <td>0.935156</td>\n",
       "      <td>284767.852472</td>\n",
       "    </tr>\n",
       "    <tr>\n",
       "      <th>std</th>\n",
       "      <td>5.731422</td>\n",
       "      <td>50127.499737</td>\n",
       "      <td>0.363835</td>\n",
       "      <td>0.365457</td>\n",
       "      <td>0.405007</td>\n",
       "      <td>0.170635</td>\n",
       "      <td>0.201751</td>\n",
       "      <td>0.378156</td>\n",
       "      <td>0.110133</td>\n",
       "      <td>0.046424</td>\n",
       "      <td>0.281878</td>\n",
       "      <td>0.512066</td>\n",
       "      <td>0.468734</td>\n",
       "      <td>0.067080</td>\n",
       "      <td>0.679845</td>\n",
       "      <td>0.291439</td>\n",
       "      <td>50127.499737</td>\n",
       "    </tr>\n",
       "    <tr>\n",
       "      <th>min</th>\n",
       "      <td>0.000000</td>\n",
       "      <td>25240.313686</td>\n",
       "      <td>0.000000</td>\n",
       "      <td>0.000000</td>\n",
       "      <td>0.032183</td>\n",
       "      <td>0.000000</td>\n",
       "      <td>0.074697</td>\n",
       "      <td>0.037944</td>\n",
       "      <td>0.000000</td>\n",
       "      <td>0.006841</td>\n",
       "      <td>0.000000</td>\n",
       "      <td>0.036945</td>\n",
       "      <td>0.000000</td>\n",
       "      <td>0.000000</td>\n",
       "      <td>0.000000</td>\n",
       "      <td>0.000050</td>\n",
       "      <td>25240.313686</td>\n",
       "    </tr>\n",
       "    <tr>\n",
       "      <th>25%</th>\n",
       "      <td>0.621582</td>\n",
       "      <td>257603.362407</td>\n",
       "      <td>0.630475</td>\n",
       "      <td>0.549886</td>\n",
       "      <td>0.628662</td>\n",
       "      <td>0.890719</td>\n",
       "      <td>0.851222</td>\n",
       "      <td>0.606228</td>\n",
       "      <td>0.439941</td>\n",
       "      <td>0.148753</td>\n",
       "      <td>0.775664</td>\n",
       "      <td>0.667543</td>\n",
       "      <td>0.534522</td>\n",
       "      <td>0.312364</td>\n",
       "      <td>0.326845</td>\n",
       "      <td>0.758121</td>\n",
       "      <td>257603.362407</td>\n",
       "    </tr>\n",
       "    <tr>\n",
       "      <th>50%</th>\n",
       "      <td>1.631020</td>\n",
       "      <td>287847.454454</td>\n",
       "      <td>0.838030</td>\n",
       "      <td>0.788893</td>\n",
       "      <td>0.835698</td>\n",
       "      <td>0.993400</td>\n",
       "      <td>0.976587</td>\n",
       "      <td>0.815333</td>\n",
       "      <td>0.487950</td>\n",
       "      <td>0.178524</td>\n",
       "      <td>0.962106</td>\n",
       "      <td>0.790384</td>\n",
       "      <td>1.013794</td>\n",
       "      <td>0.353340</td>\n",
       "      <td>0.601163</td>\n",
       "      <td>0.920688</td>\n",
       "      <td>287847.454454</td>\n",
       "    </tr>\n",
       "    <tr>\n",
       "      <th>75%</th>\n",
       "      <td>3.563706</td>\n",
       "      <td>315646.858360</td>\n",
       "      <td>1.050020</td>\n",
       "      <td>1.040732</td>\n",
       "      <td>1.086391</td>\n",
       "      <td>1.086687</td>\n",
       "      <td>1.095442</td>\n",
       "      <td>1.065084</td>\n",
       "      <td>0.516398</td>\n",
       "      <td>0.208019</td>\n",
       "      <td>1.109091</td>\n",
       "      <td>0.925990</td>\n",
       "      <td>1.264911</td>\n",
       "      <td>0.388701</td>\n",
       "      <td>0.917003</td>\n",
       "      <td>1.087393</td>\n",
       "      <td>315646.858360</td>\n",
       "    </tr>\n",
       "    <tr>\n",
       "      <th>max</th>\n",
       "      <td>251.416041</td>\n",
       "      <td>499594.640718</td>\n",
       "      <td>3.145997</td>\n",
       "      <td>2.875507</td>\n",
       "      <td>7.604808</td>\n",
       "      <td>1.673312</td>\n",
       "      <td>1.908993</td>\n",
       "      <td>3.867063</td>\n",
       "      <td>0.547723</td>\n",
       "      <td>0.436608</td>\n",
       "      <td>1.778162</td>\n",
       "      <td>7.917381</td>\n",
       "      <td>3.286335</td>\n",
       "      <td>0.547723</td>\n",
       "      <td>29.279200</td>\n",
       "      <td>11.252159</td>\n",
       "      <td>499594.640718</td>\n",
       "    </tr>\n",
       "  </tbody>\n",
       "</table>\n",
       "</div>"
      ],
      "text/plain": [
       "       track_listen_count       track_id  artist_familiarity  \\\n",
       "count       110000.000000  110000.000000       110000.000000   \n",
       "mean             3.194263  284767.852472            0.858051   \n",
       "std              5.731422   50127.499737            0.363835   \n",
       "min              0.000000   25240.313686            0.000000   \n",
       "25%              0.621582  257603.362407            0.630475   \n",
       "50%              1.631020  287847.454454            0.838030   \n",
       "75%              3.563706  315646.858360            1.050020   \n",
       "max            251.416041  499594.640718            3.145997   \n",
       "\n",
       "       artist_hotttnesss       duration            key  key_confidence  \\\n",
       "count      110000.000000  110000.000000  110000.000000   110000.000000   \n",
       "mean            0.813997       0.897697       0.981949        0.969217   \n",
       "std             0.365457       0.405007       0.170635        0.201751   \n",
       "min             0.000000       0.032183       0.000000        0.074697   \n",
       "25%             0.549886       0.628662       0.890719        0.851222   \n",
       "50%             0.788893       0.835698       0.993400        0.976587   \n",
       "75%             1.040732       1.086391       1.086687        1.095442   \n",
       "max             2.875507       7.604808       1.673312        1.908993   \n",
       "\n",
       "            loudness           mode  mode_confidence  song_hotttnesss  \\\n",
       "count  110000.000000  110000.000000    110000.000000    110000.000000   \n",
       "mean        0.868341       0.454094         0.179036         0.920267   \n",
       "std         0.378156       0.110133         0.046424         0.281878   \n",
       "min         0.037944       0.000000         0.006841         0.000000   \n",
       "25%         0.606228       0.439941         0.148753         0.775664   \n",
       "50%         0.815333       0.487950         0.178524         0.962106   \n",
       "75%         1.065084       0.516398         0.208019         1.109091   \n",
       "max         3.867063       0.547723         0.436608         1.778162   \n",
       "\n",
       "               tempo  time_signature  time_signature_confidence  \\\n",
       "count  110000.000000   110000.000000              110000.000000   \n",
       "mean        0.857460        0.935701                   0.345626   \n",
       "std         0.512066        0.468734                   0.067080   \n",
       "min         0.036945        0.000000                   0.000000   \n",
       "25%         0.667543        0.534522                   0.312364   \n",
       "50%         0.790384        1.013794                   0.353340   \n",
       "75%         0.925990        1.264911                   0.388701   \n",
       "max         7.917381        3.286335                   0.547723   \n",
       "\n",
       "       end_of_fade_in_relative  start_of_fade_out_relative             id  \n",
       "count            110000.000000               110000.000000  110000.000000  \n",
       "mean                  0.713346                    0.935156  284767.852472  \n",
       "std                   0.679845                    0.291439   50127.499737  \n",
       "min                   0.000000                    0.000050   25240.313686  \n",
       "25%                   0.326845                    0.758121  257603.362407  \n",
       "50%                   0.601163                    0.920688  287847.454454  \n",
       "75%                   0.917003                    1.087393  315646.858360  \n",
       "max                  29.279200                   11.252159  499594.640718  "
      ]
     },
     "execution_count": 30,
     "metadata": {},
     "output_type": "execute_result"
    }
   ],
   "source": [
    "users_meged_df.describe()"
   ]
  },
  {
   "cell_type": "code",
   "execution_count": 31,
   "metadata": {
    "collapsed": false
   },
   "outputs": [],
   "source": [
    "users_meged_df_median = merged_df[merged_df['track_listen_count'] > 1].groupby(by='user_id').median()"
   ]
  },
  {
   "cell_type": "code",
   "execution_count": 32,
   "metadata": {
    "collapsed": false
   },
   "outputs": [
    {
     "data": {
      "text/html": [
       "<div>\n",
       "<table border=\"1\" class=\"dataframe\">\n",
       "  <thead>\n",
       "    <tr style=\"text-align: right;\">\n",
       "      <th></th>\n",
       "      <th>track_listen_count</th>\n",
       "      <th>track_id</th>\n",
       "      <th>artist_familiarity</th>\n",
       "      <th>artist_hotttnesss</th>\n",
       "      <th>duration</th>\n",
       "      <th>key</th>\n",
       "      <th>key_confidence</th>\n",
       "      <th>loudness</th>\n",
       "      <th>mode</th>\n",
       "      <th>mode_confidence</th>\n",
       "      <th>song_hotttnesss</th>\n",
       "      <th>tempo</th>\n",
       "      <th>time_signature</th>\n",
       "      <th>time_signature_confidence</th>\n",
       "      <th>end_of_fade_in_relative</th>\n",
       "      <th>start_of_fade_out_relative</th>\n",
       "      <th>id</th>\n",
       "    </tr>\n",
       "    <tr>\n",
       "      <th>user_id</th>\n",
       "      <th></th>\n",
       "      <th></th>\n",
       "      <th></th>\n",
       "      <th></th>\n",
       "      <th></th>\n",
       "      <th></th>\n",
       "      <th></th>\n",
       "      <th></th>\n",
       "      <th></th>\n",
       "      <th></th>\n",
       "      <th></th>\n",
       "      <th></th>\n",
       "      <th></th>\n",
       "      <th></th>\n",
       "      <th></th>\n",
       "      <th></th>\n",
       "      <th></th>\n",
       "    </tr>\n",
       "  </thead>\n",
       "  <tbody>\n",
       "    <tr>\n",
       "      <th>0</th>\n",
       "      <td>2.0</td>\n",
       "      <td>657614.0</td>\n",
       "      <td>0.441214</td>\n",
       "      <td>-0.114581</td>\n",
       "      <td>-0.248456</td>\n",
       "      <td>0.184800</td>\n",
       "      <td>-0.017569</td>\n",
       "      <td>0.535100</td>\n",
       "      <td>1.0</td>\n",
       "      <td>0.595</td>\n",
       "      <td>0.585323</td>\n",
       "      <td>0.442405</td>\n",
       "      <td>4.0</td>\n",
       "      <td>0.705</td>\n",
       "      <td>-0.412606</td>\n",
       "      <td>-0.793370</td>\n",
       "      <td>657614.0</td>\n",
       "    </tr>\n",
       "    <tr>\n",
       "      <th>1</th>\n",
       "      <td>4.0</td>\n",
       "      <td>373834.0</td>\n",
       "      <td>-0.688253</td>\n",
       "      <td>-0.292737</td>\n",
       "      <td>1.176224</td>\n",
       "      <td>1.295722</td>\n",
       "      <td>0.797302</td>\n",
       "      <td>0.305553</td>\n",
       "      <td>0.0</td>\n",
       "      <td>0.678</td>\n",
       "      <td>0.864469</td>\n",
       "      <td>-0.255709</td>\n",
       "      <td>4.0</td>\n",
       "      <td>0.767</td>\n",
       "      <td>-0.412606</td>\n",
       "      <td>0.635488</td>\n",
       "      <td>373834.0</td>\n",
       "    </tr>\n",
       "    <tr>\n",
       "      <th>2</th>\n",
       "      <td>5.0</td>\n",
       "      <td>373257.0</td>\n",
       "      <td>0.141165</td>\n",
       "      <td>-0.118236</td>\n",
       "      <td>0.015583</td>\n",
       "      <td>-0.092931</td>\n",
       "      <td>0.326899</td>\n",
       "      <td>-0.427723</td>\n",
       "      <td>1.0</td>\n",
       "      <td>0.597</td>\n",
       "      <td>0.841117</td>\n",
       "      <td>0.144218</td>\n",
       "      <td>4.0</td>\n",
       "      <td>0.783</td>\n",
       "      <td>-0.209344</td>\n",
       "      <td>-0.454142</td>\n",
       "      <td>373257.0</td>\n",
       "    </tr>\n",
       "    <tr>\n",
       "      <th>3</th>\n",
       "      <td>2.5</td>\n",
       "      <td>622848.5</td>\n",
       "      <td>0.319392</td>\n",
       "      <td>-0.130751</td>\n",
       "      <td>0.286642</td>\n",
       "      <td>-0.509526</td>\n",
       "      <td>0.336159</td>\n",
       "      <td>-0.236434</td>\n",
       "      <td>1.0</td>\n",
       "      <td>0.644</td>\n",
       "      <td>-1.902843</td>\n",
       "      <td>-0.517561</td>\n",
       "      <td>4.0</td>\n",
       "      <td>0.656</td>\n",
       "      <td>-0.315783</td>\n",
       "      <td>-0.635268</td>\n",
       "      <td>622848.5</td>\n",
       "    </tr>\n",
       "    <tr>\n",
       "      <th>4</th>\n",
       "      <td>2.0</td>\n",
       "      <td>515491.0</td>\n",
       "      <td>-0.526070</td>\n",
       "      <td>-0.467140</td>\n",
       "      <td>0.312796</td>\n",
       "      <td>0.045935</td>\n",
       "      <td>-0.780585</td>\n",
       "      <td>0.041999</td>\n",
       "      <td>0.0</td>\n",
       "      <td>0.452</td>\n",
       "      <td>0.007985</td>\n",
       "      <td>0.056878</td>\n",
       "      <td>4.0</td>\n",
       "      <td>0.638</td>\n",
       "      <td>-0.385587</td>\n",
       "      <td>0.169218</td>\n",
       "      <td>515491.0</td>\n",
       "    </tr>\n",
       "  </tbody>\n",
       "</table>\n",
       "</div>"
      ],
      "text/plain": [
       "         track_listen_count  track_id  artist_familiarity  artist_hotttnesss  \\\n",
       "user_id                                                                        \n",
       "0                       2.0  657614.0            0.441214          -0.114581   \n",
       "1                       4.0  373834.0           -0.688253          -0.292737   \n",
       "2                       5.0  373257.0            0.141165          -0.118236   \n",
       "3                       2.5  622848.5            0.319392          -0.130751   \n",
       "4                       2.0  515491.0           -0.526070          -0.467140   \n",
       "\n",
       "         duration       key  key_confidence  loudness  mode  mode_confidence  \\\n",
       "user_id                                                                        \n",
       "0       -0.248456  0.184800       -0.017569  0.535100   1.0            0.595   \n",
       "1        1.176224  1.295722        0.797302  0.305553   0.0            0.678   \n",
       "2        0.015583 -0.092931        0.326899 -0.427723   1.0            0.597   \n",
       "3        0.286642 -0.509526        0.336159 -0.236434   1.0            0.644   \n",
       "4        0.312796  0.045935       -0.780585  0.041999   0.0            0.452   \n",
       "\n",
       "         song_hotttnesss     tempo  time_signature  time_signature_confidence  \\\n",
       "user_id                                                                         \n",
       "0               0.585323  0.442405             4.0                      0.705   \n",
       "1               0.864469 -0.255709             4.0                      0.767   \n",
       "2               0.841117  0.144218             4.0                      0.783   \n",
       "3              -1.902843 -0.517561             4.0                      0.656   \n",
       "4               0.007985  0.056878             4.0                      0.638   \n",
       "\n",
       "         end_of_fade_in_relative  start_of_fade_out_relative        id  \n",
       "user_id                                                                 \n",
       "0                      -0.412606                   -0.793370  657614.0  \n",
       "1                      -0.412606                    0.635488  373834.0  \n",
       "2                      -0.209344                   -0.454142  373257.0  \n",
       "3                      -0.315783                   -0.635268  622848.5  \n",
       "4                      -0.385587                    0.169218  515491.0  "
      ]
     },
     "execution_count": 32,
     "metadata": {},
     "output_type": "execute_result"
    }
   ],
   "source": [
    "users_meged_df_median.head()"
   ]
  },
  {
   "cell_type": "code",
   "execution_count": 33,
   "metadata": {
    "collapsed": false
   },
   "outputs": [],
   "source": [
    "users_meged_df_median.drop(['track_listen_count', 'track_id', 'id',\n",
    "                            'mode', 'mode_confidence',\n",
    "                            'time_signature', 'time_signature_confidence'], axis=1, inplace=True)"
   ]
  },
  {
   "cell_type": "code",
   "execution_count": 34,
   "metadata": {
    "collapsed": false
   },
   "outputs": [
    {
     "data": {
      "text/html": [
       "<div>\n",
       "<table border=\"1\" class=\"dataframe\">\n",
       "  <thead>\n",
       "    <tr style=\"text-align: right;\">\n",
       "      <th></th>\n",
       "      <th>artist_familiarity</th>\n",
       "      <th>artist_hotttnesss</th>\n",
       "      <th>duration</th>\n",
       "      <th>key</th>\n",
       "      <th>key_confidence</th>\n",
       "      <th>loudness</th>\n",
       "      <th>song_hotttnesss</th>\n",
       "      <th>tempo</th>\n",
       "      <th>end_of_fade_in_relative</th>\n",
       "      <th>start_of_fade_out_relative</th>\n",
       "    </tr>\n",
       "    <tr>\n",
       "      <th>user_id</th>\n",
       "      <th></th>\n",
       "      <th></th>\n",
       "      <th></th>\n",
       "      <th></th>\n",
       "      <th></th>\n",
       "      <th></th>\n",
       "      <th></th>\n",
       "      <th></th>\n",
       "      <th></th>\n",
       "      <th></th>\n",
       "    </tr>\n",
       "  </thead>\n",
       "  <tbody>\n",
       "    <tr>\n",
       "      <th>0</th>\n",
       "      <td>0.441214</td>\n",
       "      <td>-0.114581</td>\n",
       "      <td>-0.248456</td>\n",
       "      <td>0.184800</td>\n",
       "      <td>-0.017569</td>\n",
       "      <td>0.535100</td>\n",
       "      <td>0.585323</td>\n",
       "      <td>0.442405</td>\n",
       "      <td>-0.412606</td>\n",
       "      <td>-0.793370</td>\n",
       "    </tr>\n",
       "    <tr>\n",
       "      <th>1</th>\n",
       "      <td>-0.688253</td>\n",
       "      <td>-0.292737</td>\n",
       "      <td>1.176224</td>\n",
       "      <td>1.295722</td>\n",
       "      <td>0.797302</td>\n",
       "      <td>0.305553</td>\n",
       "      <td>0.864469</td>\n",
       "      <td>-0.255709</td>\n",
       "      <td>-0.412606</td>\n",
       "      <td>0.635488</td>\n",
       "    </tr>\n",
       "    <tr>\n",
       "      <th>2</th>\n",
       "      <td>0.141165</td>\n",
       "      <td>-0.118236</td>\n",
       "      <td>0.015583</td>\n",
       "      <td>-0.092931</td>\n",
       "      <td>0.326899</td>\n",
       "      <td>-0.427723</td>\n",
       "      <td>0.841117</td>\n",
       "      <td>0.144218</td>\n",
       "      <td>-0.209344</td>\n",
       "      <td>-0.454142</td>\n",
       "    </tr>\n",
       "    <tr>\n",
       "      <th>3</th>\n",
       "      <td>0.319392</td>\n",
       "      <td>-0.130751</td>\n",
       "      <td>0.286642</td>\n",
       "      <td>-0.509526</td>\n",
       "      <td>0.336159</td>\n",
       "      <td>-0.236434</td>\n",
       "      <td>-1.902843</td>\n",
       "      <td>-0.517561</td>\n",
       "      <td>-0.315783</td>\n",
       "      <td>-0.635268</td>\n",
       "    </tr>\n",
       "    <tr>\n",
       "      <th>4</th>\n",
       "      <td>-0.526070</td>\n",
       "      <td>-0.467140</td>\n",
       "      <td>0.312796</td>\n",
       "      <td>0.045935</td>\n",
       "      <td>-0.780585</td>\n",
       "      <td>0.041999</td>\n",
       "      <td>0.007985</td>\n",
       "      <td>0.056878</td>\n",
       "      <td>-0.385587</td>\n",
       "      <td>0.169218</td>\n",
       "    </tr>\n",
       "  </tbody>\n",
       "</table>\n",
       "</div>"
      ],
      "text/plain": [
       "         artist_familiarity  artist_hotttnesss  duration       key  \\\n",
       "user_id                                                              \n",
       "0                  0.441214          -0.114581 -0.248456  0.184800   \n",
       "1                 -0.688253          -0.292737  1.176224  1.295722   \n",
       "2                  0.141165          -0.118236  0.015583 -0.092931   \n",
       "3                  0.319392          -0.130751  0.286642 -0.509526   \n",
       "4                 -0.526070          -0.467140  0.312796  0.045935   \n",
       "\n",
       "         key_confidence  loudness  song_hotttnesss     tempo  \\\n",
       "user_id                                                        \n",
       "0             -0.017569  0.535100         0.585323  0.442405   \n",
       "1              0.797302  0.305553         0.864469 -0.255709   \n",
       "2              0.326899 -0.427723         0.841117  0.144218   \n",
       "3              0.336159 -0.236434        -1.902843 -0.517561   \n",
       "4             -0.780585  0.041999         0.007985  0.056878   \n",
       "\n",
       "         end_of_fade_in_relative  start_of_fade_out_relative  \n",
       "user_id                                                       \n",
       "0                      -0.412606                   -0.793370  \n",
       "1                      -0.412606                    0.635488  \n",
       "2                      -0.209344                   -0.454142  \n",
       "3                      -0.315783                   -0.635268  \n",
       "4                      -0.385587                    0.169218  "
      ]
     },
     "execution_count": 34,
     "metadata": {},
     "output_type": "execute_result"
    }
   ],
   "source": [
    "users_meged_df_median.head()"
   ]
  },
  {
   "cell_type": "code",
   "execution_count": 35,
   "metadata": {
    "collapsed": false
   },
   "outputs": [],
   "source": [
    "merged_df.drop(['mode', 'mode_confidence', \n",
    "                'time_signature', 'time_signature_confidence', \n",
    "                'id'], axis=1, inplace=True)"
   ]
  },
  {
   "cell_type": "markdown",
   "metadata": {},
   "source": [
    "### merged_df.head()"
   ]
  },
  {
   "cell_type": "code",
   "execution_count": 37,
   "metadata": {
    "collapsed": true
   },
   "outputs": [],
   "source": [
    "def cosine_recommendation(x, y):\n",
    "    len_x = np.sqrt(np.sum(np.power(x, 2)))\n",
    "    len_y = np.sqrt(np.sum(np.power(y, 2)))\n",
    "    \n",
    "    return abs(np.sum(x * y) / (len_x * len_y))"
   ]
  },
  {
   "cell_type": "code",
   "execution_count": 38,
   "metadata": {
    "collapsed": false
   },
   "outputs": [],
   "source": [
    "def l2_recommendation(x, y):\n",
    "    return np.sqrt(np.sum(np.power((x - y), 2)))"
   ]
  },
  {
   "cell_type": "code",
   "execution_count": 39,
   "metadata": {
    "collapsed": false
   },
   "outputs": [],
   "source": [
    "x = merged_df.iloc[4]"
   ]
  },
  {
   "cell_type": "code",
   "execution_count": 40,
   "metadata": {
    "collapsed": false
   },
   "outputs": [],
   "source": [
    "x = x.drop(['user_id', 'track_listen_count', 'track_id'])"
   ]
  },
  {
   "cell_type": "code",
   "execution_count": 41,
   "metadata": {
    "collapsed": false
   },
   "outputs": [
    {
     "data": {
      "text/plain": [
       "artist_familiarity            0.341067\n",
       "artist_hotttnesss            -0.237642\n",
       "duration                      0.056438\n",
       "key                           0.462530\n",
       "key_confidence                2.023313\n",
       "loudness                     -0.220139\n",
       "song_hotttnesss              -0.356113\n",
       "tempo                        -0.712715\n",
       "end_of_fade_in_relative      -0.279671\n",
       "start_of_fade_out_relative   -0.857802\n",
       "Name: 4, dtype: float64"
      ]
     },
     "execution_count": 41,
     "metadata": {},
     "output_type": "execute_result"
    }
   ],
   "source": [
    "x"
   ]
  },
  {
   "cell_type": "code",
   "execution_count": 42,
   "metadata": {
    "collapsed": false
   },
   "outputs": [],
   "source": [
    "y = users_meged_df_median.iloc[80305]"
   ]
  },
  {
   "cell_type": "code",
   "execution_count": 43,
   "metadata": {
    "collapsed": false
   },
   "outputs": [
    {
     "data": {
      "text/plain": [
       "artist_familiarity            0.881654\n",
       "artist_hotttnesss             0.451946\n",
       "duration                      0.127260\n",
       "key                          -0.648392\n",
       "key_confidence                0.763966\n",
       "loudness                      0.256904\n",
       "song_hotttnesss               0.564650\n",
       "tempo                         0.344894\n",
       "end_of_fade_in_relative      -0.219006\n",
       "start_of_fade_out_relative   -0.206864\n",
       "Name: 88653, dtype: float64"
      ]
     },
     "execution_count": 43,
     "metadata": {},
     "output_type": "execute_result"
    }
   ],
   "source": [
    "y"
   ]
  },
  {
   "cell_type": "code",
   "execution_count": 44,
   "metadata": {
    "collapsed": false
   },
   "outputs": [
    {
     "data": {
      "text/plain": [
       "0.29984325238830106"
      ]
     },
     "execution_count": 44,
     "metadata": {},
     "output_type": "execute_result"
    }
   ],
   "source": [
    "cosine_recommendation(x, y)"
   ]
  },
  {
   "cell_type": "code",
   "execution_count": 45,
   "metadata": {
    "collapsed": false
   },
   "outputs": [
    {
     "data": {
      "text/plain": [
       "2.4928281956434204"
      ]
     },
     "execution_count": 45,
     "metadata": {},
     "output_type": "execute_result"
    }
   ],
   "source": [
    "l2_recommendation(x, y)"
   ]
  },
  {
   "cell_type": "code",
   "execution_count": 46,
   "metadata": {
    "collapsed": false
   },
   "outputs": [
    {
     "name": "stderr",
     "output_type": "stream",
     "text": [
      "/Users/alexkirnas/anaconda/lib/python3.6/site-packages/sklearn/cross_validation.py:44: DeprecationWarning: This module was deprecated in version 0.18 in favor of the model_selection module into which all the refactored classes and functions are moved. Also note that the interface of the new CV iterators are different from that of this module. This module will be removed in 0.20.\n",
      "  \"This module will be removed in 0.20.\", DeprecationWarning)\n"
     ]
    }
   ],
   "source": [
    "import xgboost as xgb"
   ]
  },
  {
   "cell_type": "code",
   "execution_count": 47,
   "metadata": {
    "collapsed": true
   },
   "outputs": [],
   "source": [
    "val_size = int(merged_df.shape[0] * 0.1)"
   ]
  },
  {
   "cell_type": "code",
   "execution_count": 48,
   "metadata": {
    "collapsed": false
   },
   "outputs": [],
   "source": [
    "merged_df = merged_df.reindex(np.random.permutation(merged_df.shape[0]))"
   ]
  },
  {
   "cell_type": "code",
   "execution_count": 49,
   "metadata": {
    "collapsed": true
   },
   "outputs": [],
   "source": [
    "merged_df['label'] = merged_df['track_listen_count'].map(lambda x: 1 if x > 1 else 0)"
   ]
  },
  {
   "cell_type": "code",
   "execution_count": 50,
   "metadata": {
    "collapsed": true
   },
   "outputs": [],
   "source": [
    "merged_df.drop('track_listen_count', axis=1, inplace=True)"
   ]
  },
  {
   "cell_type": "code",
   "execution_count": 51,
   "metadata": {
    "collapsed": false
   },
   "outputs": [],
   "source": [
    "merged_df_final = pd.merge(merged_df, users_meged_df_median, \n",
    "                           left_on='user_id', right_index=True)"
   ]
  },
  {
   "cell_type": "code",
   "execution_count": 52,
   "metadata": {
    "collapsed": true
   },
   "outputs": [],
   "source": [
    "train, val = merged_df_final.iloc[:-val_size],  merged_df_final.iloc[-val_size:]"
   ]
  },
  {
   "cell_type": "code",
   "execution_count": 53,
   "metadata": {
    "collapsed": false
   },
   "outputs": [
    {
     "name": "stderr",
     "output_type": "stream",
     "text": [
      "/Users/alexkirnas/anaconda/lib/python3.6/site-packages/ipykernel/__main__.py:1: SettingWithCopyWarning: \n",
      "A value is trying to be set on a copy of a slice from a DataFrame\n",
      "\n",
      "See the caveats in the documentation: http://pandas.pydata.org/pandas-docs/stable/indexing.html#indexing-view-versus-copy\n",
      "  if __name__ == '__main__':\n"
     ]
    }
   ],
   "source": [
    "train.drop(['user_id', 'track_id'], axis=1, inplace=True)"
   ]
  },
  {
   "cell_type": "code",
   "execution_count": 54,
   "metadata": {
    "collapsed": false
   },
   "outputs": [
    {
     "name": "stderr",
     "output_type": "stream",
     "text": [
      "/Users/alexkirnas/anaconda/lib/python3.6/site-packages/ipykernel/__main__.py:1: SettingWithCopyWarning: \n",
      "A value is trying to be set on a copy of a slice from a DataFrame\n",
      "\n",
      "See the caveats in the documentation: http://pandas.pydata.org/pandas-docs/stable/indexing.html#indexing-view-versus-copy\n",
      "  if __name__ == '__main__':\n"
     ]
    }
   ],
   "source": [
    "val.drop(['user_id', 'track_id'], axis=1, inplace=True)"
   ]
  },
  {
   "cell_type": "code",
   "execution_count": 55,
   "metadata": {
    "collapsed": true
   },
   "outputs": [],
   "source": [
    "train_x, train_y = train.drop('label', axis=1), train['label']"
   ]
  },
  {
   "cell_type": "code",
   "execution_count": 56,
   "metadata": {
    "collapsed": true
   },
   "outputs": [],
   "source": [
    "val_x, val_y = val.drop('label', axis=1), val['label']"
   ]
  },
  {
   "cell_type": "code",
   "execution_count": 197,
   "metadata": {
    "collapsed": false
   },
   "outputs": [],
   "source": [
    "gbm = xgb.XGBClassifier(n_estimators=30, learning_rate=0.3, max_depth=14,\n",
    "                        subsample=0.8, colsample_bytree=0.9, reg_lambda=0.00005)"
   ]
  },
  {
   "cell_type": "code",
   "execution_count": 198,
   "metadata": {
    "collapsed": false
   },
   "outputs": [
    {
     "data": {
      "text/plain": [
       "XGBClassifier(base_score=0.5, colsample_bylevel=1, colsample_bytree=0.9,\n",
       "       gamma=0, learning_rate=0.3, max_delta_step=0, max_depth=14,\n",
       "       min_child_weight=1, missing=None, n_estimators=30, nthread=-1,\n",
       "       objective='binary:logistic', reg_alpha=0, reg_lambda=5e-05,\n",
       "       scale_pos_weight=1, seed=0, silent=True, subsample=0.8)"
      ]
     },
     "execution_count": 198,
     "metadata": {},
     "output_type": "execute_result"
    }
   ],
   "source": [
    "gbm"
   ]
  },
  {
   "cell_type": "code",
   "execution_count": 199,
   "metadata": {
    "collapsed": false
   },
   "outputs": [
    {
     "data": {
      "text/plain": [
       "XGBClassifier(base_score=0.5, colsample_bylevel=1, colsample_bytree=0.9,\n",
       "       gamma=0, learning_rate=0.3, max_delta_step=0, max_depth=14,\n",
       "       min_child_weight=1, missing=None, n_estimators=30, nthread=-1,\n",
       "       objective='binary:logistic', reg_alpha=0, reg_lambda=5e-05,\n",
       "       scale_pos_weight=1, seed=0, silent=True, subsample=0.8)"
      ]
     },
     "execution_count": 199,
     "metadata": {},
     "output_type": "execute_result"
    }
   ],
   "source": [
    "gbm.fit(train_x, train_y)"
   ]
  },
  {
   "cell_type": "code",
   "execution_count": 200,
   "metadata": {
    "collapsed": true
   },
   "outputs": [],
   "source": [
    "y_pred_val = gbm.predict(val_x)"
   ]
  },
  {
   "cell_type": "code",
   "execution_count": 201,
   "metadata": {
    "collapsed": true
   },
   "outputs": [],
   "source": [
    "y_pred_train = gbm.predict(train_x)"
   ]
  },
  {
   "cell_type": "code",
   "execution_count": 202,
   "metadata": {
    "collapsed": true
   },
   "outputs": [],
   "source": [
    "from sklearn.metrics import accuracy_score"
   ]
  },
  {
   "cell_type": "code",
   "execution_count": 203,
   "metadata": {
    "collapsed": false
   },
   "outputs": [
    {
     "data": {
      "text/plain": [
       "(0.83105234110636017, 0.79665538389356216)"
      ]
     },
     "execution_count": 203,
     "metadata": {},
     "output_type": "execute_result"
    }
   ],
   "source": [
    "accuracy_score(train_y, y_pred_train, normalize=True), accuracy_score(val_y, y_pred_val, normalize=True)"
   ]
  },
  {
   "cell_type": "code",
   "execution_count": 204,
   "metadata": {
    "collapsed": true
   },
   "outputs": [],
   "source": [
    "import pickle"
   ]
  },
  {
   "cell_type": "code",
   "execution_count": 205,
   "metadata": {
    "collapsed": true
   },
   "outputs": [],
   "source": [
    "with open('../data/model.pkl', 'wb') as file:\n",
    "    pickle.dump(gbm, file)"
   ]
  },
  {
   "cell_type": "code",
   "execution_count": null,
   "metadata": {
    "collapsed": true
   },
   "outputs": [],
   "source": []
  }
 ],
 "metadata": {
  "kernelspec": {
   "display_name": "Python 3",
   "language": "python",
   "name": "python3"
  },
  "language_info": {
   "codemirror_mode": {
    "name": "ipython",
    "version": 3
   },
   "file_extension": ".py",
   "mimetype": "text/x-python",
   "name": "python",
   "nbconvert_exporter": "python",
   "pygments_lexer": "ipython3",
   "version": "3.6.0"
  }
 },
 "nbformat": 4,
 "nbformat_minor": 2
}
